{
 "cells": [
  {
   "cell_type": "code",
   "execution_count": 1,
   "metadata": {},
   "outputs": [],
   "source": [
    "# Import packages\n",
    "\n",
    "import numpy as np\n",
    "import matplotlib.pyplot as plt\n",
    "from scipy.signal import savgol_filter\n",
    "import pandas as pd\n",
    "from scipy.signal import medfilt\n",
    "import functools\n",
    "from scipy.optimize import minimize, bisect\n",
    "import os\n",
    "import seaborn as sns"
   ]
  },
  {
   "cell_type": "code",
   "execution_count": 2,
   "metadata": {},
   "outputs": [
    {
     "data": {
      "text/plain": [
       "u'/Users/indre/Desktop/Thesis Data Processing'"
      ]
     },
     "execution_count": 2,
     "metadata": {},
     "output_type": "execute_result"
    }
   ],
   "source": [
    "pwd"
   ]
  },
  {
   "cell_type": "code",
   "execution_count": 3,
   "metadata": {},
   "outputs": [
    {
     "name": "stdout",
     "output_type": "stream",
     "text": [
      "/Users/indre/Python/dp_python-master\n"
     ]
    }
   ],
   "source": [
    "cd '/Users/indre/Python/dp_python-master'"
   ]
  },
  {
   "cell_type": "code",
   "execution_count": 4,
   "metadata": {},
   "outputs": [],
   "source": [
    "from dpcore import dp"
   ]
  },
  {
   "cell_type": "code",
   "execution_count": 5,
   "metadata": {},
   "outputs": [],
   "source": [
    "%matplotlib qt"
   ]
  },
  {
   "cell_type": "code",
   "execution_count": 6,
   "metadata": {},
   "outputs": [],
   "source": [
    "# Define functions\n",
    "# From Sylvester et al. (2019)\n",
    "\n",
    "def compute_derivatives(x,y):\n",
    "    \"\"\"function for computing first derivatives of a curve (centerline)\n",
    "    x,y are cartesian coodinates of the curve\n",
    "    outputs:\n",
    "    dx - first derivative of x coordinate\n",
    "    dy - first derivative of y coordinate\n",
    "    ds - distances between consecutive points along the curve\n",
    "    s - cumulative distance along the curve\"\"\"\n",
    "    dx = np.gradient(x) # first derivatives\n",
    "    dy = np.gradient(y)   \n",
    "    ds = np.sqrt(dx**2+dy**2)\n",
    "    s = np.cumsum(ds)\n",
    "    s = np.hstack((0,np.cumsum(ds[1:])))\n",
    "    return dx, dy, ds, s\n",
    "\n",
    "\n",
    "def compute_curvature(x,y):\n",
    "    dx = np.gradient(x); dy = np.gradient(y)  # first derivatives    \n",
    "    ds = np.sqrt(dx**2+dy**2)\n",
    "    ddx = np.gradient(dx); ddy = np.gradient(dy) # second derivatives \n",
    "    curvature = (dx*ddy - dy*ddx) / ((dx**2 + dy**2)**1.5)\n",
    "    s = np.cumsum(ds)\n",
    "    return curvature, s \n",
    "\n",
    "def compute_curvature(x,y):\n",
    "    \"\"\"function for computing first derivatives and curvature of a curve (centerline)\n",
    "    x,y are cartesian coodinates of the curve\n",
    "    outputs:\n",
    "    dx - first derivative of x coordinate\n",
    "    dy - first derivative of y coordinate\n",
    "    ds - distances between consecutive points along the curve\n",
    "    s - cumulative distance along the curve\n",
    "    curvature - curvature of the curve (in 1/units of x and y)\"\"\"\n",
    "    dx = np.gradient(x) # first derivatives\n",
    "    dy = np.gradient(y)      \n",
    "    ds = np.sqrt(dx**2+dy**2)\n",
    "    ddx = np.gradient(dx) # second derivatives \n",
    "    ddy = np.gradient(dy) \n",
    "    curvature = (dx*ddy - dy*ddx) / ((dx**2 + dy**2)**1.5) # look into this formula more\n",
    "    s = np.cumsum(ds)\n",
    "    s = np.hstack((0,np.cumsum(ds[1:])))\n",
    "    return curvature, s\n",
    "    \n",
    "def resample_curve(x,y,deltas,sf):\n",
    "    dx,dy,ds,s = compute_derivatives(x,y)\n",
    "    tck, u = scipy.interpolate.splprep([x,y],s=sf) \n",
    "    unew = np.linspace(0,1,1+s[-1]/deltas) # vector for resampling\n",
    "    out = scipy.interpolate.splev(unew,tck) # resampling\n",
    "    return out[0], out[1]\n",
    "\n",
    "def correlate_clines(x1,x2,y1,y2):\n",
    "    # use dynamic time warping to correlate centerlines\n",
    "    c = len(x1)\n",
    "    r = len(x2)\n",
    "    sm = np.zeros((r,c))\n",
    "    for i in range(0,r):\n",
    "        sm[i,:] = ((x1-x2[i])**2 + (y1-y2[i])**2)**0.5\n",
    "    p,q,C,phi = dp(sm,penalty=0.0,gutter=0.0)\n",
    "    return p,q,sm\n"
   ]
  },
  {
   "cell_type": "code",
   "execution_count": 7,
   "metadata": {},
   "outputs": [],
   "source": [
    "#    Define migration functions\n",
    "# From Sylvester et al. (2019)\n",
    "\n",
    "def get_migr_dist(x1,y1,x2,y2,years):\n",
    "    \"\"\"use dynamic time warping to correlate centerlines\n",
    "    inputs:\n",
    "    x1, y1 - coordinates of first centerline\n",
    "    x2, y2 - coordinates of second centerline\n",
    "    years - time between the two centerlines, in years\n",
    "    penalty - parameter that forces more parallel correlation (or not)\n",
    "    outputs:\n",
    "    migr_dist - migration rate (in m/years)\n",
    "    migr_sign - migration sign\n",
    "    p - indices of correlation in second centerline\n",
    "    q - indices of correlation in first centerline\"\"\"\n",
    "    p,q,sm = correlate_clines(x1,x2,y1,y2)\n",
    "    qn = np.delete(np.array(q),np.where(np.diff(q)==0)[0]+1)\n",
    "    pn = np.delete(np.array(p),np.where(np.diff(q)==0)[0]+1)\n",
    "    xa = x1[:-1]\n",
    "    xb = x1[1:]\n",
    "    ya = y1[:-1]\n",
    "    yb = y1[1:]\n",
    "    x = x2[pn][1:]\n",
    "    y = y2[pn][1:]\n",
    "    migr_sign = np.sign((x-xa)*(yb-ya) - (y-ya)*(xb-xa))\n",
    "    migr_dist = migr_sign*sm[pn,qn][1:]/years\n",
    "    migr_dist = np.hstack((migr_dist[0],migr_dist))\n",
    "    return migr_dist, migr_sign, p, q\n",
    "  \n",
    "\n",
    "def get_predicted_migr_dist(curvature,W,k,Cf,D,kl,s):\n",
    "    \"\"\"function for calculating predicted migration rate\n",
    "    using the simplified Howard-Knutson model\n",
    "    inputs:\n",
    "    W - channel width (m)\n",
    "    k - constant (=1)\n",
    "    Cf - friction factor\n",
    "    D - channel depth (m)\n",
    "    kl - migration constant (m/year)\n",
    "    s - along-channel distance (m)\n",
    "    output:\n",
    "    R1 - predicted migration rate\"\"\"\n",
    "    ds = np.diff(s)\n",
    "    alpha = k*2*Cf/D\n",
    "    ns = len(s)\n",
    "    R0 = kl*W*curvature # preallocate vector for nominal channel migration rate\n",
    "    R1 = np.zeros(ns) # preallocate adjusted channel migration rate\n",
    "    for i in range(0,len(R1)):\n",
    "        si2 = np.hstack((0,np.cumsum(ds[i-1::-1])))  # distance along centerline, backwards from current point \n",
    "        G = np.exp(-alpha*si2) # weighting function   \n",
    "        R1[i] = -1*R0[i] + 2.5*np.sum(R0[i::-1]*G)/np.sum(G) # actual migration rate (m/year)\n",
    "    return R1\n",
    "\n",
    "# function for optimizing for Cf:\n",
    "def get_friction_factor(Cf,curvature,migr_dist,kl,W,k,D,s):\n",
    "    R1 = get_predicted_migr_dist(curvature,W,k,Cf,D,kl,s)\n",
    "    corr = correlate(R1, migr_dist)\n",
    "    # delta time array to match xcorr:\n",
    "    delta_t = np.arange(1-len(R1), len(R1))\n",
    "    time_shift = delta_t[corr.argmax()]\n",
    "    return time_shift # goal is to minimize the time shift\n",
    "\n",
    "from __future__ import division\n",
    "import numpy as np\n",
    "\n",
    "\n",
    "def zerocross1d(x, y, getIndices=False):\n",
    "    \"\"\"\n",
    "    Find the zero crossing points in 1d data.\n",
    "\n",
    "    Find the zero crossing events in a discrete data set.\n",
    "    Linear interpolation is used to determine the actual\n",
    "    locations of the zero crossing between two data points\n",
    "    showing a change in sign. Data point which are zero\n",
    "    are counted in as zero crossings if a sign change occurs\n",
    "    across them. Note that the first and last data point will\n",
    "    not be considered whether or not they are zero. \n",
    "\n",
    "    Parameters\n",
    "    ----------\n",
    "    x, y : arrays\n",
    "        Ordinate and abscissa data values.\n",
    "    getIndices : boolean, optional\n",
    "        If True, also the indicies of the points preceding\n",
    "        the zero crossing event will be returned. Defeualt is\n",
    "        False.\n",
    "\n",
    "    Returns\n",
    "    -------\n",
    "    xvals : array\n",
    "        The locations of the zero crossing events determined\n",
    "        by linear interpolation on the data.\n",
    "    indices : array, optional\n",
    "        The indices of the points preceding the zero crossing\n",
    "        events. Only returned if `getIndices` is set True.\n",
    "    \"\"\"\n",
    "\n",
    "    # Indices of points *before* zero-crossing\n",
    "    indi = np.where(y[1:]*y[0:-1] < 0.0)[0]\n",
    "\n",
    "    # Find the zero crossing by linear interpolation\n",
    "    dx = x[indi+1] - x[indi]\n",
    "    dy = y[indi+1] - y[indi]\n",
    "    zc = -y[indi] * (dx/dy) + x[indi]\n",
    "\n",
    "    # What about the points, which are actually zero\n",
    "    zi = np.where(y == 0.0)[0]\n",
    "    # Do nothing about the first and last point should they\n",
    "    # be zero\n",
    "    zi = zi[np.where((zi > 0) & (zi < x.size-1))]\n",
    "    # Select those point, where zero is crossed (sign change\n",
    "    # across the point)\n",
    "    zi = zi[np.where(y[zi-1]*y[zi+1] < 0.0)]\n",
    "\n",
    "    # Concatenate indices\n",
    "    zzindi = np.concatenate((indi, zi)) \n",
    "    # Concatenate zc and locations corresponding to zi\n",
    "    zz = np.concatenate((zc, x[zi]))\n",
    "\n",
    "    # Sort by x-value\n",
    "    sind = np.argsort(zz)\n",
    "    zz, zzindi = zz[sind], zzindi[sind]\n",
    "\n",
    "    if not getIndices:\n",
    "        return zz\n",
    "    else:\n",
    "        return zz, zzindi"
   ]
  },
  {
   "cell_type": "code",
   "execution_count": 8,
   "metadata": {},
   "outputs": [],
   "source": [
    "# Import files and vector data\n",
    "\n",
    "\n",
    "# Import CVS Files for seafloor\n",
    "df = pd.read_csv('/Users/indre/Desktop/Thesis Data Processing/seafloor_centerline_UTM_15N.csv', usecols=[0,1])\n",
    "df.columns = ['x', 'y']\n",
    "\n",
    "x0r = np.array(df['x'])\n",
    "y0r = np.array(df['y'])\n",
    "\n",
    "# Import CVS Files for HZ 1 and HZ2\n",
    "\n",
    "df = pd.read_csv('/Users/indre/Desktop/Thesis Data Processing/thalweg_hz1_vertices_v3.csv', usecols=[0,1])\n",
    "df.columns = ['x', 'y']\n",
    "# df[:5]\n",
    "\n",
    "x1r = np.array(df['x'])\n",
    "y1r = np.array(df['y'])\n",
    "\n",
    "df = pd.read_csv('/Users/indre/Desktop/Thesis Data Processing/thalweg_hz2_vertices_v4.csv',usecols=[0,1])\n",
    "df.columns = ['x', 'y']\n",
    "\n",
    "x2r = np.array(df['x'])\n",
    "y2r = np.array(df['y'])\n",
    "\n",
    "# Import CVS Files for HZ 3 and HZ4\n",
    "\n",
    "df = pd.read_csv('/Users/indre/Desktop/Thesis Data Processing/thalweg_hz3_vertices2.csv',usecols=[0,1])\n",
    "df.columns = ['x', 'y']\n",
    "\n",
    "x3r = np.array(df['x'])\n",
    "y3r = np.array(df['y'])\n",
    "# df[:5]\n",
    "\n",
    "df = pd.read_csv('/Users/indre/Desktop/Thesis Data Processing/thalweg_hz4_vertices.csv',header=None,usecols=[0,1])\n",
    "df.columns = ['x', 'y']\n",
    "\n",
    "x4r = np.array(df['x'])\n",
    "y4r = np.array(df['y'])\n",
    "\n",
    "# Map of unsmoothed centerlines\n",
    "\n",
    "plt.figure(figsize=(8,6))\n",
    "\n",
    "plt.plot(x4r,y4r, 'k')\n",
    "plt.plot(x3r,y3r, 'k')\n",
    "plt.plot(x2r,y2r, 'k')\n",
    "plt.plot(x1r,y1r, 'k')\n",
    "plt.plot(x0r,y0r, 'k')\n",
    "\n",
    "plt.axis('equal')\n",
    "plt.ylabel('distance from south to north (m)', fontsize =12); \n",
    "plt.xlabel('distance from east to west (m)',fontsize =12)\n",
    "plt.ticklabel_format(axis='x', style='sci', scilimits=(-2,2))\n",
    "plt.ticklabel_format(axis='y', style='sci', scilimits=(-2,2))"
   ]
  },
  {
   "cell_type": "code",
   "execution_count": 9,
   "metadata": {
    "scrolled": true
   },
   "outputs": [
    {
     "name": "stderr",
     "output_type": "stream",
     "text": [
      "/Users/indre/anaconda3/envs/DTW/lib/python2.7/site-packages/ipykernel_launcher.py:49: DeprecationWarning: object of type <type 'numpy.float64'> cannot be safely interpreted as an integer.\n"
     ]
    }
   ],
   "source": [
    "# Smooth, resample vector data\n",
    "\n",
    "import scipy.interpolate\n",
    "\n",
    "deltas = 25.0 # sampling distance, previously and in half width analysis is 50m\n",
    "sf = 20000 # smoothing factor changed from 200000 and then half that and then 20000\n",
    "    \n",
    "x0, y0 = resample_curve(x0r,y0r,deltas,sf)\n",
    "x1, y1 = resample_curve(x1r,y1r,deltas,sf)\n",
    "x2, y2 = resample_curve(x2r,y2r,deltas,sf)\n",
    "x3, y3 = resample_curve(x3r,y3r,deltas,sf)\n",
    "x4, y4 = resample_curve(x4r,y4r,deltas,sf)\n",
    "\n",
    "# Map of resampled smoothed centerlines\n",
    "\n",
    "plt.plot(x4r,y4r,'k')\n",
    "plt.plot(x3r,y3r,'k')\n",
    "plt.plot(x2r,y2r,'k')\n",
    "plt.plot(x1r,y1r,'k')\n",
    "plt.plot(x0r,y0r,'k')\n",
    "\n",
    "plt.plot(x4,y4,'y')\n",
    "plt.plot(x3,y3,'c')\n",
    "plt.plot(x2,y2,'g')\n",
    "plt.plot(x1,y1,'b')\n",
    "plt.plot(x0,y0,'k')\n",
    "\n",
    "plt.ylabel('distance from south to north (m)', fontsize =12); \n",
    "plt.xlabel('distance from east to west (m)',fontsize =12)\n",
    "plt.ticklabel_format(axis='x', style='sci', scilimits=(-2,2))\n",
    "plt.ticklabel_format(axis='y', style='sci', scilimits=(-2,2))"
   ]
  },
  {
   "cell_type": "markdown",
   "metadata": {},
   "source": [
    "\n",
    "\n",
    "# Analyze Timestep 1 - Horizon 4 to and Horizon 3"
   ]
  },
  {
   "cell_type": "code",
   "execution_count": 11,
   "metadata": {},
   "outputs": [],
   "source": [
    "# 1. Compute, Smooth Curvature\n",
    "\n",
    "curv,s = compute_curvature(x4,y4) # Horizon 4\n",
    "from scipy.signal import savgol_filter # Plot Smoothed and Raw Curvature\n",
    "curv_s = savgol_filter(curv,51,3) # Mess with \"51\" or middle figure to play w smoothing (changed to 31)\n"
   ]
  },
  {
   "cell_type": "code",
   "execution_count": 12,
   "metadata": {},
   "outputs": [],
   "source": [
    "# 2. Compute, Smooth Migration Distance\n",
    "\n",
    "years = 1.0 #to get migration distance because we dont know the rate\n",
    "migr_dist, migr_sign, p, q = get_migr_dist(x4,y4,x3,y3,years)\n",
    "\n",
    "migr_dist = medfilt(savgol_filter(migr_dist,51,3),kernel_size=5) # smoothing\n",
    "\n",
    "curv = medfilt(savgol_filter(curv,51,3),kernel_size=5) # smoothing\n",
    "\n",
    "loc_zero_curv_s, loc_zero_curv = zerocross1d(s, curv, getIndices=True)\n",
    "loc_zero_migr_s, loc_zero_migr = zerocross1d(s, migr_dist, getIndices=True)\n"
   ]
  },
  {
   "cell_type": "code",
   "execution_count": 12,
   "metadata": {},
   "outputs": [],
   "source": [
    "#  Run a segment like this  to crop out incomplete contour data, based on the guidelines below\n",
    "\n",
    "# Hz3 begins at index 1601 and ends at 5055 for ts2\n",
    "# Hz4 beg at index 0 and ends at index 3250 for ts 1\n",
    "# for ts 2, hz 2 beg at index 1376 and ends in 6571\n",
    "# for ts C, hz 1 beg at 1437 and end at 6788\n",
    "# for ts C, hz 3 end at 6788\n",
    "# for ts A and B, hz 4 ends with 3389\n",
    "# fo time step A, hz1 [3137:6942]\n",
    "# time step B, hz 2 [3018:6722]\n",
    "\n",
    "# migr_dist = migr_dist[:3250]\n",
    "# curv = curv[:3250]\n",
    "# s = s[:3250] "
   ]
  },
  {
   "cell_type": "code",
   "execution_count": 154,
   "metadata": {},
   "outputs": [],
   "source": [
    "# 3. Plot Migration and Curvature\n",
    "\n",
    "fig = plt.figure(figsize=(30,5))\n",
    "ax1 = fig.add_subplot(111)\n",
    "ax1.plot(s/1000.0,curv) \n",
    "\n",
    "ax1.set_xlim(0,max(s/1000.0))\n",
    "ax1.set_ylabel('curvature (1/m)', fontsize=14)\n",
    "\n",
    "ax1.plot([0,max(s/1000)],[0,0],'k--')\n",
    "\n",
    "ax2 = ax1.twinx()\n",
    "ax2.plot(s/1000.0,migr_dist,'r')\n",
    "ax1.set_xlabel('distance along channel (km)', fontsize=14)\n",
    "\n",
    "ax2.set_ylabel('migration rate (m/year)', fontsize=14, color='r')\n",
    "ax2.set_ylim(-300,300)\n",
    "ax1.set_ylim(-0.003,0.003);\n",
    "\n",
    "plt.title('Migration from Horizon 4 to Horizon 3', fontsize =16);"
   ]
  },
  {
   "cell_type": "code",
   "execution_count": 155,
   "metadata": {},
   "outputs": [],
   "source": [
    "# 4. Import bends* from CSV \n",
    "\n",
    "# To edit bends, see \"bend_picker\" in /Desktop/Thesis Data Processing and change file description below to \"..._NEW\"\n",
    "# For smoothing factor on curv at '31' use v2, for '51' use  v3\n",
    "\n",
    "df = pd.read_csv('/Users/indre/Desktop/Thesis Data Processing/Joshua_hz4_to_hz3_inflection_and_zero_migration_indices_v2.csv', usecols=[0,1,2,3,4])\n",
    "df.columns = ['bend','index_inflection_point','index_zero_migration','s_coordinate_index_ip','s_coordinate_index_zm']\n",
    "                 \n",
    "BEND = np.array(df['bend'])\n",
    "LZC = np.array(df['index_inflection_point'])\n",
    "LZM = np.array(df['index_zero_migration'])\n",
    "LZC_s = np.array(df['s_coordinate_index_ip'])\n",
    "LZM_s = np.array(df['s_coordinate_index_zm'])\n",
    "\n",
    "BEND=BEND+26  # numbering bends\n",
    "\n",
    "LZC=LZC.astype(int)\n",
    "LZM=LZM.astype(int)\n",
    " "
   ]
  },
  {
   "cell_type": "code",
   "execution_count": 174,
   "metadata": {},
   "outputs": [
    {
     "name": "stdout",
     "output_type": "stream",
     "text": [
      "22.0\n",
      "550.0\n"
     ]
    }
   ],
   "source": [
    "# 5. Find lag.\n",
    "\n",
    "# Print rough lag estimate from inflection points.\n",
    "\n",
    "print np.median(LZM-LZC) # in index points\n",
    "print deltas*np.median(LZM-LZC) #in meters"
   ]
  },
  {
   "cell_type": "code",
   "execution_count": 13,
   "metadata": {},
   "outputs": [
    {
     "name": "stdout",
     "output_type": "stream",
     "text": [
      "Pearsons correlation: 0.460\n",
      "Pearsons correlation: 0.634\n"
     ]
    }
   ],
   "source": [
    "# To calculate final lag in the paper,\n",
    "# iterate index point values in the segments below to maximize correlation, \n",
    "# starting with the first value (index #) in the rough estimate above.\n",
    "\n",
    "#Without lag\n",
    "from scipy.stats import pearsonr\n",
    "# calculate Pearson's correlation\n",
    "corr, _ = pearsonr(curv, migr_dist)\n",
    "print('Pearsons correlation: %.3f' % corr)\n",
    "\n",
    "#With lag\n",
    "from scipy.stats import pearsonr\n",
    "# calculate Pearson's correlation\n",
    "corr, _ = pearsonr(curv[:-28], migr_dist[28:])\n",
    "print('Pearsons correlation: %.3f' % corr)"
   ]
  },
  {
   "cell_type": "code",
   "execution_count": 180,
   "metadata": {},
   "outputs": [
    {
     "name": "stdout",
     "output_type": "stream",
     "text": [
      "700.0\n"
     ]
    }
   ],
   "source": [
    "# Convert the final lag to meters using the number found above in place of \"28\"\n",
    "\n",
    "lag = 28*deltas\n",
    "print lag"
   ]
  },
  {
   "cell_type": "code",
   "execution_count": 63,
   "metadata": {},
   "outputs": [
    {
     "data": {
      "text/plain": [
       "Text(0,0.5,'migration distance (m), with phase lag')"
      ]
     },
     "execution_count": 63,
     "metadata": {},
     "output_type": "execute_result"
    }
   ],
   "source": [
    "# 6. Correlation plot, \n",
    "# use lag in place of 28\n",
    "\n",
    "# This part is necessary for color coding low quality data in yellow.\n",
    "curv1 = curv[:-28]\n",
    "migr1= migr_dist[28:]\n",
    "\n",
    "plt.figure(figsize=(8,8)) \n",
    "sns.kdeplot(curv[:-28], migr_dist[28:],\n",
    "           n_levels=20,shade=True,cmap='Blues',shade_lowest=False)\n",
    "plt.scatter(curv1[417:3759][::20],migr_dist[417:3759][::20],c='k',s=10)\n",
    "plt.scatter(curv[:417-29][::20],migr_dist[29:417][::20],c='y',s=10)\n",
    "plt.scatter(curv[3759:-29][::20],migr_dist[3759+29:][::20],c='y',s=10)\n",
    "plt.ylabel('migration distance (m), with phase lag', fontsize=14)"
   ]
  },
  {
   "cell_type": "code",
   "execution_count": 29,
   "metadata": {},
   "outputs": [],
   "source": [
    "# 7. Map bends, cropped \n",
    "\n",
    "# colors: hz1 - 'b', hz 2 - 'g' , hz3 - 'c', hz 4 - 'y'\n",
    "\n",
    "plt.figure(figsize=(60,60))\n",
    "           \n",
    "plt.plot(x4[:4511],y4[:4511], 'y')\n",
    "plt.plot(x3[1606:],y3[1606:],'c')\n",
    "\n",
    "plt.axis('equal')\n",
    "plt.scatter(x4[LZC], y4[LZC], c='r')\n",
    "plt.scatter(x4[LZM], y4[LZM], c='b')  \n",
    "\n",
    "for i, txt in enumerate(BEND):\n",
    "    plt.annotate(txt, (x4[LZC][i], y4[LZC][i]), color='r',  size='small')\n",
    "for i, txt in enumerate(BEND):\n",
    "    plt.annotate(txt, (x4[LZM][i], y4[LZM][i]), color='b', size='small')\n",
    "    \n",
    "LZM=LZM.astype(int)\n",
    "LZC=LZC.astype(int)\n",
    "plt.ylabel('distance from south to north (m)', fontsize =12); \n",
    "plt.xlabel('distance from east to west (m)',fontsize =12)\n",
    "plt.ticklabel_format(axis='x', style='sci', scilimits=(-2,2))\n",
    "plt.ticklabel_format(axis='y', style='sci', scilimits=(-2,2))"
   ]
  },
  {
   "cell_type": "code",
   "execution_count": null,
   "metadata": {},
   "outputs": [],
   "source": [
    "# 8. Let's plot data by bends\n",
    "\n",
    "W = 174\n",
    "\n",
    "fig, ax1 = plt.subplots(figsize=(16,4))\n",
    "\n",
    "y1g = .45 # Top for curv\n",
    "y2g = 0.0 # Zero for curv\n",
    "y3g = -0.58332 # Zero for migr\n",
    "y4g = -1.1 # Bottom for curv\n",
    "\n",
    "for i in range(1,len(LZC)-1,2):\n",
    "    xcoords = [LZC_s[i],LZC_s[i+1],LZC_s[i+1],LZM_s[i+1],LZM_s[i+1],LZM_s[i],LZM_s[i],LZC_s[i]]\n",
    "    ycoords = [y1g,y1g,y2g,y3g,y4g,y4g,y3g,y2g]\n",
    "    ax1.fill(xcoords,ycoords,color=[0.85,0.85,0.85],zorder=0) \n",
    "        \n",
    "offset = 10\n",
    "deltas = 25.0\n",
    "\n",
    "ax1.fill_between(s, 0, curv*W) \n",
    "ax2 = ax1.twinx()\n",
    "ax2.fill_between(s, 0, migr_dist, facecolor='green')\n",
    "\n",
    "ax1.plot([0,max(s)],[0,0],'k--')\n",
    "ax2.plot([0,max(s)],[0,0],'k--')\n",
    "\n",
    "ax1.set_ylim(y4g,y1g)\n",
    "ax2.set_ylim(-400,800)\n",
    "ax1.set_xlim(0,s[-1])\n",
    "   \n",
    "ax1.set_ylabel('W/r (m)')\n",
    "ax2.set_ylabel('migration distance (m)')\n",
    "ax1.set_xlabel(\"distance along channel axis (m)\")\n",
    "\n",
    "plt.tight_layout()"
   ]
  },
  {
   "cell_type": "markdown",
   "metadata": {},
   "source": [
    "\n",
    "# Analyze Timestep 2 - Horizon 3 to Horizon 2"
   ]
  },
  {
   "cell_type": "code",
   "execution_count": 14,
   "metadata": {},
   "outputs": [],
   "source": [
    "# 1. Compute, Smooth Curvatures\n",
    "\n",
    "curv,s = compute_curvature(x2,y2) # Horizon 2\n",
    "\n",
    "from scipy.signal import savgol_filter#Plot Smoothed and Raw Curvature\n",
    "curv_s = savgol_filter(curv,51,3) # mess with \"51\" or middle figure to play w smoothing \n",
    "\n",
    "curv,s = compute_curvature(x3,y3) # Horizon 3\n",
    "\n",
    "from scipy.signal import savgol_filter#Plot Smoothed and Raw Curvature\n",
    "curv_s = savgol_filter(curv,51,3) # mess with \"51\" or middle figure to play w smoothing"
   ]
  },
  {
   "cell_type": "code",
   "execution_count": 15,
   "metadata": {},
   "outputs": [],
   "source": [
    "# 2. Compute, Smooth Migration Distance\n",
    "\n",
    "years = 1.0 # to get migration distance because we dont know the rate\n",
    "migr_dist, migr_sign, p, q = get_migr_dist(x3,y3,x2,y2,years)\n",
    "\n",
    "migr_dist = medfilt(savgol_filter(migr_dist,51,3),kernel_size=5) # smoothing\n",
    "curv,s = compute_curvature(x3,y3)\n",
    "\n",
    "curv = medfilt(savgol_filter(curv,51,3),kernel_size=5) # smoothing\n",
    "\n",
    "loc_zero_curv_s, loc_zero_curv = zerocross1d(s, curv, getIndices=True)\n",
    "loc_zero_migr_s, loc_zero_migr = zerocross1d(s, migr_dist, getIndices=True)"
   ]
  },
  {
   "cell_type": "code",
   "execution_count": 20,
   "metadata": {},
   "outputs": [],
   "source": [
    "# # When cropping noncontour data, run this.... \n",
    "\n",
    "# migr_dist = migr_dist[:5055]\n",
    "# curv = curv[:5055]\n",
    "# s = s[:5055] \n"
   ]
  },
  {
   "cell_type": "code",
   "execution_count": 28,
   "metadata": {},
   "outputs": [],
   "source": [
    "# 3. Plot Migration and Curvature\n",
    "\n",
    "#hz 3 to hz 2 plot\n",
    "\n",
    "fig = plt.figure(figsize=(30,5))\n",
    "ax1 = fig.add_subplot(111)\n",
    "ax1.plot(s/1000.0,curv) \n",
    "\n",
    "ax1.set_xlim(0,max(s/1000.0))\n",
    "ax1.set_ylabel('curvature (1/m)', fontsize=14)\n",
    "\n",
    "ax1.plot([0,max(s/1000)],[0,0],'k--') # Label curv_s=0\n",
    "\n",
    "ax2 = ax1.twinx()\n",
    "ax2.plot(s/1000.0,migr_dist,'r')\n",
    "ax1.set_xlabel('distance along channel (km)', fontsize=14)\n",
    "\n",
    "ax2.set_ylabel('migration rate (m/year)', fontsize=14, color='r')\n",
    "ax2.set_ylim(-300,300)\n",
    "ax1.set_ylim(-0.003,0.003);\n",
    "\n",
    "plt.title('Migration from Horizon 3 to Horizon 2', fontsize =16);"
   ]
  },
  {
   "cell_type": "code",
   "execution_count": 191,
   "metadata": {},
   "outputs": [],
   "source": [
    "# 4. Import bends* from CSV \n",
    "# * To edit, see \"bend_picker\" in /Desktop/Thesis Data Processing and change file description below to \"..._NEW\"\n",
    "\n",
    "df = pd.read_csv('/Users/indre/Desktop/Thesis Data Processing/Joshua_hz3_to_hz2_inflection_and_zero_migration_indices_v2.csv', usecols=[0,1,2,3,4])\n",
    "df.columns = ['bend','index_inflection_point','index_zero_migration','s_coordinate_index_ip','s_coordinate_index_zm']\n",
    "                 \n",
    "BEND = np.array(df['bend'])\n",
    "LZC = np.array(df['index_inflection_point'])\n",
    "LZM = np.array(df['index_zero_migration'])\n",
    "LZC_s = np.array(df['s_coordinate_index_ip'])\n",
    "LZM_s = np.array(df['s_coordinate_index_zm'])\n",
    "\n",
    "BEND= BEND+13 # numbering\n",
    "\n",
    "LZC=LZC.astype(int)\n",
    "LZM=LZM.astype(int)"
   ]
  },
  {
   "cell_type": "code",
   "execution_count": 192,
   "metadata": {},
   "outputs": [
    {
     "name": "stdout",
     "output_type": "stream",
     "text": [
      "657.9545454545454\n",
      "26.318181818181817\n"
     ]
    }
   ],
   "source": [
    "# 5. Find lag.\n",
    "\n",
    "# Lag estimate\n",
    "\n",
    "print np.median(LZM-LZC)*deltas\n",
    "print np.median(LZM-LZC)\n",
    "\n",
    "# use this as a starting point \n",
    "# then play with the lag in the pearsons corr\n",
    "# to find max correlation closest to starting point"
   ]
  },
  {
   "cell_type": "code",
   "execution_count": 16,
   "metadata": {},
   "outputs": [
    {
     "name": "stdout",
     "output_type": "stream",
     "text": [
      "Pearsons correlation: 0.375\n",
      "Pearsons correlation: 0.595\n"
     ]
    }
   ],
   "source": [
    "# Iterate for final lag\n",
    "\n",
    "#Without lag\n",
    "from scipy.stats import pearsonr\n",
    "# calculate Pearson's correlation\n",
    "corr, _ = pearsonr(curv, migr_dist)\n",
    "print('Pearsons correlation: %.3f' % corr)\n",
    "\n",
    "#With lag!\n",
    "from scipy.stats import pearsonr\n",
    "# calculate Pearson's correlation\n",
    "corr, _ = pearsonr(curv[:-25], migr_dist[25:])\n",
    "print('Pearsons correlation: %.3f' % corr)"
   ]
  },
  {
   "cell_type": "code",
   "execution_count": 205,
   "metadata": {},
   "outputs": [
    {
     "data": {
      "text/plain": [
       "625.0"
      ]
     },
     "execution_count": 205,
     "metadata": {},
     "output_type": "execute_result"
    }
   ],
   "source": [
    "# Run to convert lax from index points to meters\n",
    "25*deltas"
   ]
  },
  {
   "cell_type": "code",
   "execution_count": 15,
   "metadata": {},
   "outputs": [
    {
     "data": {
      "text/plain": [
       "Text(0,0.5,'migration distance (m), with phase lag')"
      ]
     },
     "execution_count": 15,
     "metadata": {},
     "output_type": "execute_result"
    }
   ],
   "source": [
    "# 6. Correlation plot\n",
    "\n",
    "plt.figure(figsize=(8,8))\n",
    "sns.kdeplot(curv[:-26], migr_dist[26:],\n",
    "           n_levels=20,shade=True,cmap='Blues',shade_lowest=False)\n",
    "plt.scatter(curv[:5055-26][::20],migr_dist[26:5055][::20],c='k',s=10)\n",
    "plt.scatter(curv[5055:-26][::20],migr_dist[5055+26:][::20],c='y',s=10)\n",
    "plt.xlabel('curvature (1/m)', fontsize=14)\n",
    "plt.ylabel('migration distance (m), with phase lag', fontsize=14)"
   ]
  },
  {
   "cell_type": "code",
   "execution_count": 52,
   "metadata": {},
   "outputs": [],
   "source": [
    "# 7. Map bends (cropped) \n",
    "# colors: hz1 - 'b', hz 2 - 'g' , hz3 - 'c', hz 4 - 'y'\n",
    "\n",
    "plt.figure(figsize=(60,60))\n",
    "           \n",
    "plt.plot(x3,y3, 'c')\n",
    "plt.plot(x2[1376:],y2[1376:], 'g')\n",
    "plt.axis('equal')\n",
    "plt.scatter(x3[LZC], y3[LZC], c='r')\n",
    "plt.scatter(x3[LZM], y3[LZM], c='b')  \n",
    "\n",
    "for i, txt in enumerate(BEND):\n",
    "    plt.annotate(txt, (x3[LZC][i], y3[LZC][i]), color='r', size='small')\n",
    "for i, txt in enumerate(BEND):\n",
    "    plt.annotate(txt, (x3[LZM][i], y3[LZM][i]), color='b', size='small')\n",
    "\n",
    "LZM=LZM.astype(int)\n",
    "LZC=LZC.astype(int)\n",
    "plt.ylabel('distance from south to north (m)', fontsize =12); \n",
    "plt.xlabel('distance from east to west (m)',fontsize =12)\n",
    "plt.ticklabel_format(axis='x', style='sci', scilimits=(-2,2))\n",
    "plt.ticklabel_format(axis='y', style='sci', scilimits=(-2,2))"
   ]
  },
  {
   "cell_type": "code",
   "execution_count": 58,
   "metadata": {},
   "outputs": [],
   "source": [
    "# 8. Plot data by bends\n",
    "\n",
    "W = 174\n",
    "\n",
    "fig, ax1 = plt.subplots(figsize=(16,4))\n",
    "\n",
    "y1g = .45 # Top for curv\n",
    "y2g = 0.0 # Zero for curv\n",
    "y3g = -0.58332 # Zero for migr\n",
    "y4g = -1.1 # Bottom for curv\n",
    "\n",
    "for i in range(0,len(LZC)-1,2):\n",
    "    xcoords = [LZC_s[i],LZC_s[i+1],LZC_s[i+1],LZM_s[i+1],LZM_s[i+1],LZM_s[i],LZM_s[i],LZC_s[i]]\n",
    "    ycoords = [y1g,y1g,y2g,y3g,y4g,y4g,y3g,y2g]\n",
    "    ax1.fill(xcoords,ycoords,color=[0.85,0.85,0.85],zorder=0) \n",
    "        \n",
    "offset = 10\n",
    "deltas = 25.0\n",
    "\n",
    "ax1.fill_between(s, 0, curv*W) \n",
    "ax2 = ax1.twinx()\n",
    "ax2.fill_between(s, 0, migr_dist, facecolor='green')\n",
    "\n",
    "ax1.plot([0,max(s)],[0,0],'k--')\n",
    "ax2.plot([0,max(s)],[0,0],'k--')\n",
    "\n",
    "ax1.set_ylim(y4g,y1g)\n",
    "ax2.set_ylim(-300,600)\n",
    "ax1.set_xlim(0,s[-1])\n",
    "    \n",
    "ax1.set_ylabel('W/r (m)')\n",
    "ax2.set_ylabel('migration distance (m)')\n",
    "ax1.set_xlabel(\"distance along channel axis (m)\")\n",
    "\n",
    "plt.tight_layout()\n",
    "    "
   ]
  },
  {
   "cell_type": "markdown",
   "metadata": {},
   "source": [
    "# Analyze Timestep 3 - Horizon 2 to and Horizon 1"
   ]
  },
  {
   "cell_type": "code",
   "execution_count": 332,
   "metadata": {},
   "outputs": [],
   "source": [
    "# Steps\n",
    "    # 1. Compute, Smooth Curvature for Hz 2, 1 \n",
    "    # 2. Compute, Smooth Migration for Hz 2, 1 \n",
    "    # 3. Plot migration and curvature all together.\n",
    "    # 4. Find lag and correlation (start with Zoltan's process) \n",
    "    # 5. Pick bends and save to csv\n",
    "    # 6. Map bends\n",
    "    # 7. Plot data by bend"
   ]
  },
  {
   "cell_type": "code",
   "execution_count": 31,
   "metadata": {},
   "outputs": [],
   "source": [
    "# 1. Compute, Smooth Curvatures\n",
    "#  Statistics\n",
    "\n",
    "curv,s = compute_curvature(x1,y1) # Horizon 1\n",
    "\n",
    "from scipy.signal import savgol_filter#Plot Smoothed and Raw Curvature\n",
    "curv_s = savgol_filter(curv,51,3) # mess with \"51\" or middle figure to play w smoothing (changed to 31)\n",
    "\n",
    "curv,s2 = compute_curvature(x2,y2) # Horizon 2\n",
    "\n",
    "from scipy.signal import savgol_filter#Plot Smoothed and Raw Curvature\n",
    "curv_s = savgol_filter(curv,51,3) # mess with \"51\" or middle figure to play w smoothing (changed to 31)"
   ]
  },
  {
   "cell_type": "code",
   "execution_count": 32,
   "metadata": {},
   "outputs": [],
   "source": [
    "# 2. Compute, Smooth Migration Distance\n",
    "\n",
    "years = 1.0 #to get migration distance because we dont know the rate\n",
    "migr_dist, migr_sign, p, q = get_migr_dist(x2,y2,x1,y1,years)\n",
    "\n",
    "migr_dist = medfilt(savgol_filter(migr_dist,51,3),kernel_size=5) # smoothing\n",
    "curv,s = compute_curvature(x2,y2)\n",
    "curv = medfilt(savgol_filter(curv,41,3),kernel_size=5) # smoothing\n",
    "\n",
    "loc_zero_curv_s, loc_zero_curv = zerocross1d(s, curv, getIndices=True)\n",
    "loc_zero_migr_s, loc_zero_migr = zerocross1d(s, migr_dist, getIndices=True)\n"
   ]
  },
  {
   "cell_type": "code",
   "execution_count": 218,
   "metadata": {},
   "outputs": [],
   "source": [
    "# 3. Plot Migration and Curvature\n",
    "\n",
    "#hz 2 to hz 1 plot\n",
    "\n",
    "fig = plt.figure(figsize=(30,5))\n",
    "ax1 = fig.add_subplot(111)\n",
    "ax1.plot(s/1000.0,curv) \n",
    "\n",
    "ax1.set_xlim(0,max(s/1000.0))\n",
    "ax1.set_ylabel('curvature (1/m)', fontsize=14)\n",
    "\n",
    "#Label curv_s=0\n",
    "ax1.plot([0,max(s/1000)],[0,0],'k--')\n",
    "\n",
    "ax2 = ax1.twinx()\n",
    "ax2.plot(s/1000.0,migr_dist,'r')\n",
    "ax1.set_xlabel('distance along channel (km)', fontsize=14)\n",
    "\n",
    "ax2.set_ylabel('migration rate (m/year)', fontsize=14, color='r')\n",
    "ax2.set_ylim(-300,300)\n",
    "ax1.set_ylim(-0.003,0.003);\n",
    "\n",
    "plt.title('Migration from Horizon 2 to Horizon 1', fontsize =16);"
   ]
  },
  {
   "cell_type": "code",
   "execution_count": 34,
   "metadata": {},
   "outputs": [],
   "source": [
    "# 4. Import bends* from CSV \n",
    "\n",
    "# * To edit, see \"bend_picker\" in /Desktop/Thesis Data Processing and change file description below to \"..._NEW\"\n",
    "#SO NOW YOU NEED TO REDO BEND USING ZOLTANS IMPROVED CODE...\n",
    "# For smoothing factor on curv at '31' use v2, for '51' use  v3\n",
    "\n",
    "df = pd.read_csv('/Users/indre/Desktop/Thesis Data Processing/Joshua_hz2_to_hz1_inflection_and_zero_migration_indices_v6.csv', usecols=[0,1,2,3,4])\n",
    "df.columns = ['bend','index_inflection_point','index_zero_migration','s_coordinate_index_ip','s_coordinate_index_zm']\n",
    "                 \n",
    "BEND = np.array(df['bend'])\n",
    "LZC = np.array(df['index_inflection_point'])\n",
    "LZM = np.array(df['index_zero_migration'])\n",
    "LZC_s = np.array(df['s_coordinate_index_ip'])\n",
    "LZM_s = np.array(df['s_coordinate_index_zm'])\n",
    "\n",
    "# Delete bend zero\n",
    "BEND = BEND[1:]\n",
    "LZC = LZC[1:]\n",
    "LZM = LZM[1:]\n",
    "LZC_s = LZC_s[1:]\n",
    "LZM_s = LZM_s[1:]\n",
    "\n",
    "LZC=LZC.astype(int)\n",
    "LZM=LZM.astype(int)\n"
   ]
  },
  {
   "cell_type": "code",
   "execution_count": 35,
   "metadata": {},
   "outputs": [
    {
     "name": "stdout",
     "output_type": "stream",
     "text": [
      "675.0\n",
      "27.0\n"
     ]
    }
   ],
   "source": [
    "# 5. Find lag\n",
    "\n",
    "# Rough lag estimate\n",
    "\n",
    "print np.median((LZM-LZC)*deltas)\n",
    "print np.median(LZM-LZC)"
   ]
  },
  {
   "cell_type": "code",
   "execution_count": 36,
   "metadata": {},
   "outputs": [
    {
     "name": "stdout",
     "output_type": "stream",
     "text": [
      "Pearsons correlation: 0.406\n",
      "Pearsons correlation: 0.758\n"
     ]
    }
   ],
   "source": [
    "# Find final lag\n",
    "\n",
    "#Without lag\n",
    "from scipy.stats import pearsonr\n",
    "# calculate Pearson's correlation\n",
    "corr, _ = pearsonr(curv, migr_dist)\n",
    "print('Pearsons correlation: %.3f' % corr)\n",
    "\n",
    "#With lag!\n",
    "from scipy.stats import pearsonr\n",
    "# calculate Pearson's correlation\n",
    "corr, _ = pearsonr(curv[:-27], migr_dist[27:])\n",
    "print('Pearsons correlation: %.3f' % corr)\n"
   ]
  },
  {
   "cell_type": "code",
   "execution_count": 12,
   "metadata": {},
   "outputs": [
    {
     "data": {
      "text/plain": [
       "Text(0,0.5,'migration distance (m), with phase lag')"
      ]
     },
     "execution_count": 12,
     "metadata": {},
     "output_type": "execute_result"
    }
   ],
   "source": [
    "# 6. Correlation plots\n",
    "\n",
    "plt.figure(figsize=(8,8))\n",
    "sns.kdeplot(curv[:-27], migr_dist[27:],\n",
    "           n_levels=20,shade=True,cmap='Blues',shade_lowest=False)\n",
    "plt.scatter(curv[:-27][::20],migr_dist[27:][::20],c='k',s=10)\n",
    "\n",
    "plt.xlabel('curvature (1/m)', fontsize=14)\n",
    "plt.ylabel('migration distance (m), with phase lag', fontsize=14)"
   ]
  },
  {
   "cell_type": "code",
   "execution_count": 37,
   "metadata": {},
   "outputs": [],
   "source": [
    "# 7. Map bends and plot data by bends\n",
    "\n",
    "plt.figure(figsize=(60,60))\n",
    "           \n",
    "plt.plot(x2,y2,'g')\n",
    "plt.plot(x1,y1,'b')\n",
    "plt.axis('equal')\n",
    "plt.scatter(x2[LZC], y2[LZC], c='r')\n",
    "plt.scatter(x2[LZM], y2[LZM], c='k')  \n",
    "\n",
    "for i, txt in enumerate(BEND):\n",
    "    plt.annotate(txt, (x2[LZC][i], y2[LZC][i]), color='r', size='small')\n",
    "for i, txt in enumerate(BEND):\n",
    "    plt.annotate(txt, (x2[LZM][i], y2[LZM][i]), color='k', size='small')\n",
    "    \n",
    "LZM=LZM.astype(int)\n",
    "LZC=LZC.astype(int)\n",
    "plt.ylabel('distance from south to north (m)', fontsize =12); \n",
    "plt.xlabel('distance from east to west (m)',fontsize =12)\n",
    "plt.ticklabel_format(axis='x', style='sci', scilimits=(-2,2))\n",
    "plt.ticklabel_format(axis='y', style='sci', scilimits=(-2,2))\n"
   ]
  },
  {
   "cell_type": "code",
   "execution_count": 19,
   "metadata": {},
   "outputs": [
    {
     "ename": "NameError",
     "evalue": "name 'LZC' is not defined",
     "output_type": "error",
     "traceback": [
      "\u001b[0;31m---------------------------------------------------------------------------\u001b[0m",
      "\u001b[0;31mNameError\u001b[0m                                 Traceback (most recent call last)",
      "\u001b[0;32m<ipython-input-19-f1b628ae35ff>\u001b[0m in \u001b[0;36m<module>\u001b[0;34m()\u001b[0m\n\u001b[1;32m     10\u001b[0m \u001b[0my4g\u001b[0m \u001b[0;34m=\u001b[0m \u001b[0;34m-\u001b[0m\u001b[0;36m1.3\u001b[0m \u001b[0;31m#bttm for curv\u001b[0m\u001b[0;34m\u001b[0m\u001b[0m\n\u001b[1;32m     11\u001b[0m \u001b[0;34m\u001b[0m\u001b[0m\n\u001b[0;32m---> 12\u001b[0;31m \u001b[0;32mfor\u001b[0m \u001b[0mi\u001b[0m \u001b[0;32min\u001b[0m \u001b[0mrange\u001b[0m\u001b[0;34m(\u001b[0m\u001b[0;36m0\u001b[0m\u001b[0;34m,\u001b[0m\u001b[0mlen\u001b[0m\u001b[0;34m(\u001b[0m\u001b[0mLZC\u001b[0m\u001b[0;34m)\u001b[0m\u001b[0;34m-\u001b[0m\u001b[0;36m1\u001b[0m\u001b[0;34m,\u001b[0m\u001b[0;36m2\u001b[0m\u001b[0;34m)\u001b[0m\u001b[0;34m:\u001b[0m\u001b[0;34m\u001b[0m\u001b[0m\n\u001b[0m\u001b[1;32m     13\u001b[0m     \u001b[0mxcoords\u001b[0m \u001b[0;34m=\u001b[0m \u001b[0;34m[\u001b[0m\u001b[0mLZC_s\u001b[0m\u001b[0;34m[\u001b[0m\u001b[0mi\u001b[0m\u001b[0;34m]\u001b[0m\u001b[0;34m,\u001b[0m\u001b[0mLZC_s\u001b[0m\u001b[0;34m[\u001b[0m\u001b[0mi\u001b[0m\u001b[0;34m+\u001b[0m\u001b[0;36m1\u001b[0m\u001b[0;34m]\u001b[0m\u001b[0;34m,\u001b[0m\u001b[0mLZC_s\u001b[0m\u001b[0;34m[\u001b[0m\u001b[0mi\u001b[0m\u001b[0;34m+\u001b[0m\u001b[0;36m1\u001b[0m\u001b[0;34m]\u001b[0m\u001b[0;34m,\u001b[0m\u001b[0mLZM_s\u001b[0m\u001b[0;34m[\u001b[0m\u001b[0mi\u001b[0m\u001b[0;34m+\u001b[0m\u001b[0;36m1\u001b[0m\u001b[0;34m]\u001b[0m\u001b[0;34m,\u001b[0m\u001b[0mLZM_s\u001b[0m\u001b[0;34m[\u001b[0m\u001b[0mi\u001b[0m\u001b[0;34m+\u001b[0m\u001b[0;36m1\u001b[0m\u001b[0;34m]\u001b[0m\u001b[0;34m,\u001b[0m\u001b[0mLZM_s\u001b[0m\u001b[0;34m[\u001b[0m\u001b[0mi\u001b[0m\u001b[0;34m]\u001b[0m\u001b[0;34m,\u001b[0m\u001b[0mLZM_s\u001b[0m\u001b[0;34m[\u001b[0m\u001b[0mi\u001b[0m\u001b[0;34m]\u001b[0m\u001b[0;34m,\u001b[0m\u001b[0mLZC_s\u001b[0m\u001b[0;34m[\u001b[0m\u001b[0mi\u001b[0m\u001b[0;34m]\u001b[0m\u001b[0;34m]\u001b[0m\u001b[0;34m\u001b[0m\u001b[0m\n\u001b[1;32m     14\u001b[0m     \u001b[0mycoords\u001b[0m \u001b[0;34m=\u001b[0m \u001b[0;34m[\u001b[0m\u001b[0my1g\u001b[0m\u001b[0;34m,\u001b[0m\u001b[0my1g\u001b[0m\u001b[0;34m,\u001b[0m\u001b[0my2g\u001b[0m\u001b[0;34m,\u001b[0m\u001b[0my3g\u001b[0m\u001b[0;34m,\u001b[0m\u001b[0my4g\u001b[0m\u001b[0;34m,\u001b[0m\u001b[0my4g\u001b[0m\u001b[0;34m,\u001b[0m\u001b[0my3g\u001b[0m\u001b[0;34m,\u001b[0m\u001b[0my2g\u001b[0m\u001b[0;34m]\u001b[0m\u001b[0;34m\u001b[0m\u001b[0m\n",
      "\u001b[0;31mNameError\u001b[0m: name 'LZC' is not defined"
     ]
    }
   ],
   "source": [
    "# 8. Plot data by bends\n",
    "\n",
    "W =174\n",
    "\n",
    "fig, ax1 = plt.subplots(figsize=(16,4))\n",
    "\n",
    "y1g = .495 # Top for curv\n",
    "y2g = 0.0 # Zero for curv\n",
    "y3g = -0.70166 # Zero for migr\n",
    "y4g = -1.3 # Bottom for curv\n",
    "\n",
    "for i in range(0,len(LZC)-1,2):\n",
    "    xcoords = [LZC_s[i],LZC_s[i+1],LZC_s[i+1],LZM_s[i+1],LZM_s[i+1],LZM_s[i],LZM_s[i],LZC_s[i]]\n",
    "    ycoords = [y1g,y1g,y2g,y3g,y4g,y4g,y3g,y2g]\n",
    "    ax1.fill(xcoords,ycoords,color=[0.85,0.85,0.85],zorder=0) \n",
    "        \n",
    "offset = 10\n",
    "deltas = 25.0\n",
    "\n",
    "ax1.fill_between(s, 0, curv*W) \n",
    "ax2 = ax1.twinx()\n",
    "ax2.fill_between(s, 0, migr_dist, facecolor='green')\n",
    "\n",
    "ax1.plot([0,max(s)],[0,0],'k--')\n",
    "ax2.plot([0,max(s)],[0,0],'k--')\n",
    "\n",
    "ax1.set_ylim(y4g,y1g)\n",
    "ax2.set_ylim(-300,600)\n",
    "ax1.set_xlim(0,s[-1])\n",
    "   \n",
    "ax1.set_ylabel('W/r (m)')\n",
    "ax2.set_ylabel('migration distance (m)')\n",
    "ax1.set_xlabel(\"distance along channel axis (m)\")\n",
    "\n",
    "plt.tight_layout()"
   ]
  },
  {
   "cell_type": "markdown",
   "metadata": {},
   "source": [
    "# Analyze seafloor - timestep 4"
   ]
  },
  {
   "cell_type": "code",
   "execution_count": 74,
   "metadata": {},
   "outputs": [],
   "source": [
    "# 1. Compute, Smooth Curvature\n",
    "\n",
    "from scipy.signal import savgol_filter #Plot Smoothed and Raw Curvature\n",
    "curv,s = compute_curvature(x1,y1) # Horizon 1\n",
    "curv = savgol_filter(curv,51,3) # mess with \"51\" or middle figure to play w smoothing (changed to 31)\n"
   ]
  },
  {
   "cell_type": "code",
   "execution_count": 75,
   "metadata": {},
   "outputs": [],
   "source": [
    "# 2. Compute, Smooth Migration Distance\n",
    "\n",
    "years = 1.0 #to get migration distance because we dont know the rate\n",
    "migr_dist, migr_sign, p, q = get_migr_dist(x1,y1,x0,y0,years)\n",
    "migr_dist = medfilt(savgol_filter(migr_dist,51,3),kernel_size=5) # smoothing\n",
    "loc_zero_curv_s, loc_zero_curv = zerocross1d(s, curv, getIndices=True)\n",
    "loc_zero_migr_s, loc_zero_migr = zerocross1d(s, migr_dist, getIndices=True)"
   ]
  },
  {
   "cell_type": "code",
   "execution_count": 15,
   "metadata": {},
   "outputs": [],
   "source": [
    "# 3. Plot Migration and Curvature\n",
    "\n",
    "fig = plt.figure(figsize=(30,5))\n",
    "ax1 = fig.add_subplot(111)\n",
    "ax1.plot(s/1000.0,curv) \n",
    "\n",
    "ax1.set_xlim(0,max(s/1000.0))\n",
    "ax1.set_ylabel('curvature (1/m)', fontsize=14)\n",
    "\n",
    "#Label curv_s=0\n",
    "ax1.plot([0,max(s/1000)],[0,0],'k--')\n",
    "\n",
    "ax2 = ax1.twinx()\n",
    "ax2.plot(s/1000.0,migr_dist,'r')\n",
    "ax1.set_xlabel('distance along channel (km)', fontsize=14)\n",
    "\n",
    "ax2.set_ylabel('migration rate (m/year)', fontsize=14, color='r')\n",
    "ax2.set_ylim(-400,400)\n",
    "ax1.set_ylim(-0.0045,0.0045);\n",
    "\n",
    "plt.title('Migration from Horizon 1 to Horizon 0', fontsize =16);"
   ]
  },
  {
   "cell_type": "code",
   "execution_count": 76,
   "metadata": {},
   "outputs": [],
   "source": [
    "# 4. Import bends* from CSV \n",
    "\n",
    "df = pd.read_csv('/Users/indre/Desktop/Thesis Data Processing/Joshua_hz1_to_hz0_inflection_and_zero_migration_indices.csv', usecols=[0,1,2,3,4])\n",
    "df.columns = ['bend','index_inflection_point','index_zero_migration','s_coordinate_index_ip','s_coordinate_index_zm']\n",
    "                 \n",
    "BEND = np.array(df['bend'])\n",
    "LZC = np.array(df['index_inflection_point'])\n",
    "LZM = np.array(df['index_zero_migration'])\n",
    "LZC_s = np.array(df['s_coordinate_index_ip'])\n",
    "LZM_s = np.array(df['s_coordinate_index_zm'])\n",
    "\n",
    "LZC=LZC.astype(int)\n",
    "LZM=LZM.astype(int)"
   ]
  },
  {
   "cell_type": "code",
   "execution_count": 54,
   "metadata": {},
   "outputs": [
    {
     "name": "stdout",
     "output_type": "stream",
     "text": [
      "Pearsons correlation: -0.436\n",
      "Pearsons correlation: -0.479\n",
      "300.0\n"
     ]
    }
   ],
   "source": [
    "# 5. Find lag.\n",
    "\n",
    "# Rough estimate of lag\n",
    "print np.median(LZM-LZC)\n",
    "print np.median(LZM-LZC)*deltas"
   ]
  },
  {
   "cell_type": "code",
   "execution_count": null,
   "metadata": {},
   "outputs": [],
   "source": [
    "# Iterate for final lag.\n",
    " \n",
    "# Without lag\n",
    "from scipy.stats import pearsonr\n",
    "corr, _ = pearsonr(curv, migr_dist) # Calculate Pearson's correlation\n",
    "\n",
    "\n",
    "print('Pearsons correlation: %.3f' % corr)\n",
    "\n",
    "# With lag!\n",
    "from scipy.stats import pearsonr\n",
    "corr, _ = pearsonr(curv[:-12], migr_dist[12:]) # Calculate Pearson's correlation\n",
    "print('Pearsons correlation: %.3f' % corr)\n",
    "\n",
    "print deltas*12 # Convert from index points to meters\n"
   ]
  },
  {
   "cell_type": "code",
   "execution_count": 45,
   "metadata": {},
   "outputs": [
    {
     "data": {
      "text/plain": [
       "Text(0,0.5,'migration distance (m), with phase lag')"
      ]
     },
     "execution_count": 45,
     "metadata": {},
     "output_type": "execute_result"
    }
   ],
   "source": [
    "# 6. Correlation plot\n",
    "\n",
    "plt.figure(figsize=(8,8))\n",
    "sns.kdeplot(curv[:-12], migr_dist[12:],\n",
    "           n_levels=20,shade=True,cmap='Blues',shade_lowest=False)\n",
    "\n",
    "# If cropping out low quality data, run the below\n",
    "# plt.scatter(curv[3389:-29][::20],migr_dist[29+3389:][::20],c='y',s=10) \n",
    "# plt.scatter(curv[:3389-29][::20],migr_dist[29:3389][::20],c='k',s=10)\n",
    "\n",
    "plt.scatter(curv[:-12][::20],migr_dist[12:][::20],c='k',s=10)\n",
    "\n",
    "plt.xlabel('curvature (1/m)', fontsize=14)\n",
    "plt.ylabel('migration distance (m), with phase lag', fontsize=14)\n"
   ]
  },
  {
   "cell_type": "code",
   "execution_count": 46,
   "metadata": {},
   "outputs": [],
   "source": [
    "# 7. Map bends, cropped\n",
    "\n",
    "plt.figure(figsize=(60,60))\n",
    "           \n",
    "plt.plot(x1,y1,'b')\n",
    "plt.plot(x0,y0, 'k')\n",
    "plt.axis('equal')\n",
    "plt.scatter(x1[LZC], y1[LZC], c='b')\n",
    "plt.scatter(x1[LZM], y1[LZM], c='r')  \n",
    "\n",
    "for i, txt in enumerate(BEND):\n",
    "    plt.annotate(txt, (x1[LZC][i], y1[LZC][i]), color='b', size='small')\n",
    "for i, txt in enumerate(BEND):\n",
    "    plt.annotate(txt, (x1[LZM][i], y1[LZM][i]), color='r', size='small')\n",
    "plt.ylabel('distance from south to north (m)', fontsize =12); \n",
    "plt.xlabel('distance from east to west (m)',fontsize =12)\n",
    "plt.ticklabel_format(axis='x', style='sci', scilimits=(-2,2))\n",
    "plt.ticklabel_format(axis='y', style='sci', scilimits=(-2,2))"
   ]
  },
  {
   "cell_type": "code",
   "execution_count": 47,
   "metadata": {},
   "outputs": [],
   "source": [
    "# 8. Let's plot data by bends\n",
    "\n",
    "W = 174\n",
    "\n",
    "fig, ax1 = plt.subplots(figsize=(16,4))\n",
    "\n",
    "y1g = .60 # Top for curv\n",
    "y2g = 0.0 # Zero for curv\n",
    "y3g = -0.605 # Zero for migr\n",
    "y4g = -1.2 # Bottom for curv\n",
    "\n",
    "for i in range(1,len(LZC)-1,2):\n",
    "    xcoords = [LZC_s[i],LZC_s[i+1],LZC_s[i+1],LZM_s[i+1],LZM_s[i+1],LZM_s[i],LZM_s[i],LZC_s[i]]\n",
    "    ycoords = [y1g,y1g,y2g,y3g,y4g,y4g,y3g,y2g]\n",
    "    ax1.fill(xcoords,ycoords,color=[0.85,0.85,0.85],zorder=0) \n",
    "        \n",
    "offset = 10\n",
    "deltas = 25.0\n",
    "\n",
    "\n",
    "ax1.fill_between(s, 0, curv*W) \n",
    "ax2 = ax1.twinx()\n",
    "ax2.fill_between(s, 0, migr_dist, facecolor='maroon')\n",
    "\n",
    "ax1.plot([0,max(s)],[0,0],'k--')\n",
    "ax2.plot([0,max(s)],[0,0],'k--')\n",
    "\n",
    "ax1.set_ylim(y4g,y1g)\n",
    "ax2.set_ylim(-300,700)\n",
    "ax1.set_xlim(0,s[-1])\n",
    "   \n",
    "ax1.set_ylabel('W/r (m)')\n",
    "ax2.set_ylabel('migration distance (m)')\n",
    "ax1.set_xlabel(\"distance along channel axis (m)\")\n",
    "\n",
    "plt.tight_layout()\n",
    "    "
   ]
  },
  {
   "cell_type": "markdown",
   "metadata": {},
   "source": [
    "# Analyze biggest timestep - time step A"
   ]
  },
  {
   "cell_type": "code",
   "execution_count": 38,
   "metadata": {},
   "outputs": [],
   "source": [
    "# 1. Compute, Smooth Curvatures\n",
    "\n",
    "curv,s = compute_curvature(x1,y1) # Horizon 1\n",
    "from scipy.signal import savgol_filter#Plot Smoothed and Raw Curvature\n",
    "curv = savgol_filter(curv,51,3) # mess with \"51\" or middle figure to play w smoothing (changed to 31)\n"
   ]
  },
  {
   "cell_type": "code",
   "execution_count": 39,
   "metadata": {},
   "outputs": [],
   "source": [
    "# 2. Compute, Smooth Migration Distance\n",
    "\n",
    "years = 1.0 #to get migration distance because we dont know the rate\n",
    "migr_dist, migr_sign, p, q = get_migr_dist(x4,y4,x1,y1,years)\n",
    "migr_dist = medfilt(savgol_filter(migr_dist,51,3),kernel_size=5) # smoothing\n",
    "loc_zero_curv_s, loc_zero_curv = zerocross1d(s, curv, getIndices=True)\n",
    "loc_zero_migr_s, loc_zero_migr = zerocross1d(s, migr_dist, getIndices=True)"
   ]
  },
  {
   "cell_type": "code",
   "execution_count": 88,
   "metadata": {},
   "outputs": [],
   "source": [
    "#  Run to crop out low quality  contour data\n",
    "\n",
    "migr_dist = migr_dist[:3389]\n",
    "curv = curv[:3389]\n",
    "s = s[:3389] "
   ]
  },
  {
   "cell_type": "code",
   "execution_count": 174,
   "metadata": {},
   "outputs": [],
   "source": [
    "# 3. Plot Migration and Curvature\n",
    "\n",
    "fig = plt.figure(figsize=(30,5))\n",
    "ax1 = fig.add_subplot(111)\n",
    "ax1.plot(s/1000.0,curv) \n",
    "\n",
    "ax1.set_xlim(0,max(s/1000.0))\n",
    "ax1.set_ylabel('curvature (1/m)', fontsize=14)\n",
    "\n",
    "#Label curv_s=0\n",
    "ax1.plot([0,max(s/1000)],[0,0],'k--')\n",
    "\n",
    "ax2 = ax1.twinx()\n",
    "ax2.plot(s/1000.0,migr_dist,'r')\n",
    "ax1.set_xlabel('distance along channel (km)', fontsize=14)\n",
    "\n",
    "ax2.set_ylabel('migration rate (m/year)', fontsize=14, color='r')\n",
    "ax2.set_ylim(-600,600)\n",
    "ax1.set_ylim(-0.003,0.003);\n",
    "\n",
    "plt.title('Migration from Horizon 4 to Horizon 1', fontsize =16);"
   ]
  },
  {
   "cell_type": "code",
   "execution_count": 97,
   "metadata": {},
   "outputs": [],
   "source": [
    "# 4. Import bends* from CSV \n",
    "\n",
    "df = pd.read_csv('/Users/indre/Desktop/Thesis Data Processing/Joshua_hz4_to_hz1_inflection_and_zero_migration_indices.csv', usecols=[0,1,2,3,4])\n",
    "df.columns = ['bend','index_inflection_point','index_zero_migration','s_coordinate_index_ip','s_coordinate_index_zm']\n",
    "                 \n",
    "BEND = np.array(df['bend'])\n",
    "LZC = np.array(df['index_inflection_point'])\n",
    "LZM = np.array(df['index_zero_migration'])\n",
    "LZC_s = np.array(df['s_coordinate_index_ip'])\n",
    "LZM_s = np.array(df['s_coordinate_index_zm'])\n",
    "\n",
    "# Editing bend assignments, first by matching bend no 1 to Hz 2 to Hz1\n",
    "\n",
    "BEND=BEND+26  # add [amount] to bend 0 to account for upstream curvatures, match to 2 to 1\n",
    "\n",
    "LZC=LZC.astype(int)\n",
    "LZM=LZM.astype(int)"
   ]
  },
  {
   "cell_type": "code",
   "execution_count": 83,
   "metadata": {},
   "outputs": [
    {
     "name": "stdout",
     "output_type": "stream",
     "text": [
      "762.1212121212121\n",
      "30.484848484848484\n"
     ]
    }
   ],
   "source": [
    "# 5. Lag\n",
    "\n",
    "# Rough estimate of lag\n",
    "\n",
    "print np.mean((LZM-LZC)*deltas)\n",
    "print np.mean(LZM-LZC)\n",
    "\n",
    "# use mean where data is sparse in timesteps 1,2, A, B but median for rest"
   ]
  },
  {
   "cell_type": "code",
   "execution_count": 40,
   "metadata": {},
   "outputs": [
    {
     "name": "stdout",
     "output_type": "stream",
     "text": [
      "Pearsons correlation: 0.547\n",
      "Pearsons correlation: 0.782\n"
     ]
    }
   ],
   "source": [
    "# Find final lag\n",
    "\n",
    "#Without lag\n",
    "from scipy.stats import pearsonr\n",
    "# calculate Pearson's correlation\n",
    "corr, _ = pearsonr(curv, migr_dist)\n",
    "print('Pearsons correlation: %.3f' % corr)\n",
    "\n",
    "#With lag!\n",
    "from scipy.stats import pearsonr\n",
    "# calculate Pearson's correlation\n",
    "corr, _ = pearsonr(curv[:-29], migr_dist[29:])\n",
    "print('Pearsons correlation: %.3f' % corr)"
   ]
  },
  {
   "cell_type": "code",
   "execution_count": 30,
   "metadata": {},
   "outputs": [
    {
     "data": {
      "text/plain": [
       "Text(0,0.5,'migration distance (m), with phase lag')"
      ]
     },
     "execution_count": 30,
     "metadata": {},
     "output_type": "execute_result"
    }
   ],
   "source": [
    "# 6. Correlation plot\n",
    "\n",
    "plt.figure(figsize=(8,8))\n",
    "sns.kdeplot(curv[:-29], migr_dist[29:],\n",
    "           n_levels=20,shade=True,cmap='Blues',shade_lowest=False)\n",
    "\n",
    "# # Run to color code cropped data\n",
    "# plt.scatter(curv[3389:-29][::20],migr_dist[29+3389:][::20],c='y',s=10) \n",
    "# plt.scatter(curv[:3389-29][::20],migr_dist[29:3389][::20],c='k',s=10)\n",
    "\n",
    "plt.scatter(curv[:-29][::20],migr_dist[29:][::20],c='k',s=10)\n",
    "\n",
    "plt.xlabel('curvature (1/m)', fontsize=14)\n",
    "plt.ylabel('migration distance (m), with phase lag', fontsize=14)"
   ]
  },
  {
   "cell_type": "code",
   "execution_count": 90,
   "metadata": {},
   "outputs": [],
   "source": [
    "# 7. Map and plot data by bends\n",
    "\n",
    "plt.figure(figsize=(60,60))\n",
    "           \n",
    "plt.plot(x4,y4, 'y')\n",
    "plt.plot(x1[3137:],y1[3137:],'b')\n",
    "plt.axis('equal')\n",
    "plt.scatter(x4[LZC], y4[LZC], c='r')\n",
    "plt.scatter(x4[LZM], y4[LZM], c='k')  \n",
    "\n",
    "for i, txt in enumerate(BEND):\n",
    "    plt.annotate(txt, (x4[LZC][i], y4[LZC][i]), color='r', size='small')\n",
    "for i, txt in enumerate(BEND):\n",
    "    plt.annotate(txt, (x4[LZM][i], y4[LZM][i]), color='k', size='small')\n",
    "plt.ylabel('distance from south to north (m)', fontsize =12); \n",
    "plt.xlabel('distance from east to west (m)',fontsize =12)\n",
    "plt.ticklabel_format(axis='x', style='sci', scilimits=(-2,2))\n",
    "plt.ticklabel_format(axis='y', style='sci', scilimits=(-2,2))"
   ]
  },
  {
   "cell_type": "code",
   "execution_count": 138,
   "metadata": {},
   "outputs": [],
   "source": [
    "# 8. Let's plot data by bends\n",
    "\n",
    "W = 174\n",
    "\n",
    "fig, ax1 = plt.subplots(figsize=(16,4))\n",
    "\n",
    "y1g = .45 # Top for curv\n",
    "y2g = 0.0 # Zero for curv\n",
    "y3g = -0.615625 # Zero for migr\n",
    "y4g = -1.1 # Bottom for curv\n",
    "\n",
    "for i in range(1,len(LZC)-1,2):\n",
    "    xcoords = [LZC_s[i],LZC_s[i+1],LZC_s[i+1],LZM_s[i+1],LZM_s[i+1],LZM_s[i],LZM_s[i],LZC_s[i]]\n",
    "    ycoords = [y1g,y1g,y2g,y3g,y4g,y4g,y3g,y2g]\n",
    "    ax1.fill(xcoords,ycoords,color=[0.85,0.85,0.85],zorder=0) \n",
    "        \n",
    "offset = 10\n",
    "deltas = 25.0\n",
    "\n",
    "ax1.fill_between(s, 0, curv*W) \n",
    "ax2 = ax1.twinx()\n",
    "ax2.fill_between(s, 0, migr_dist, facecolor='green')\n",
    "\n",
    "ax1.plot([0,max(s)],[0,0],'k--')\n",
    "ax2.plot([0,max(s)],[0,0],'k--')\n",
    "\n",
    "ax1.set_ylim(y4g,y1g)\n",
    "ax2.set_ylim(-500,1100)\n",
    "ax1.set_xlim(0,s[-1])\n",
    "   \n",
    "ax1.set_ylabel('W/r (m)')\n",
    "ax2.set_ylabel('migration distance (m)')\n",
    "ax1.set_xlabel(\"distance along channel axis (m)\")\n",
    "\n",
    "plt.tight_layout()\n",
    "    "
   ]
  },
  {
   "cell_type": "markdown",
   "metadata": {},
   "source": [
    "# Timestep B. Horizon 4 to Horizon 2 (to pick bends upstream)"
   ]
  },
  {
   "cell_type": "code",
   "execution_count": 41,
   "metadata": {},
   "outputs": [],
   "source": [
    "# 1. Compute, Smooth Curvatures\n",
    "\n",
    "curv,s = compute_curvature(x2,y2) # Horizon 1\n",
    "\n",
    "from scipy.signal import savgol_filter#Plot Smoothed and Raw Curvature\n",
    "curv_s = savgol_filter(curv,51,3) # mess with \"51\" or middle figure to play w smoothing (changed to 31)\n",
    "\n",
    "curv,s = compute_curvature(x4,y4) # Horizon 4\n",
    "\n",
    "from scipy.signal import savgol_filter#Plot Smoothed and Raw Curvature\n",
    "curv_s = savgol_filter(curv,51,3) # mess with \"51\" or middle figure to play w smoothing (changed to 31)"
   ]
  },
  {
   "cell_type": "code",
   "execution_count": 42,
   "metadata": {},
   "outputs": [],
   "source": [
    "# 2. Compute, Smooth Migration Distance\n",
    "\n",
    "years = 1.0 #to get migration distance because we dont know the rate\n",
    "migr_dist, migr_sign, p, q = get_migr_dist(x4,y4,x2,y2,years)\n",
    "\n",
    "migr_dist = medfilt(savgol_filter(migr_dist,51,3),kernel_size=5) # smoothing\n",
    "curv,s = compute_curvature(x4,y4)\n",
    "\n",
    "curv = medfilt(savgol_filter(curv,51,3),kernel_size=5) # smoothing\n",
    "\n",
    "loc_zero_curv_s, loc_zero_curv = zerocross1d(s, curv, getIndices=True)\n",
    "loc_zero_migr_s, loc_zero_migr = zerocross1d(s, migr_dist, getIndices=True)"
   ]
  },
  {
   "cell_type": "code",
   "execution_count": 43,
   "metadata": {},
   "outputs": [],
   "source": [
    "#  Run to crop out incomplete contour data\n",
    "\n",
    "migr_dist = migr_dist[:3389]\n",
    "curv = curv[:3389]\n",
    "s = s[:3389] "
   ]
  },
  {
   "cell_type": "code",
   "execution_count": 107,
   "metadata": {},
   "outputs": [],
   "source": [
    "# 3. Import bends* from CSV \n",
    "\n",
    "df = pd.read_csv('/Users/indre/Desktop/Thesis Data Processing/Joshua_hz4_to_hz2_inflection_and_zero_migration_indices.csv', usecols=[0,1,2,3,4])\n",
    "df.columns = ['bend','index_inflection_point','index_zero_migration','s_coordinate_index_ip','s_coordinate_index_zm']\n",
    "                 \n",
    "BEND = np.array(df['bend'])\n",
    "LZC = np.array(df['index_inflection_point'])\n",
    "LZM = np.array(df['index_zero_migration'])\n",
    "LZC_s = np.array(df['s_coordinate_index_ip'])\n",
    "LZM_s = np.array(df['s_coordinate_index_zm'])\n",
    "\n",
    "# Editing bend assignments, first by matching bend no 1 to Hz 2 to Hz1\n",
    "\n",
    "BEND=BEND+26  # add [amount] to bend 0 to account for upstream curvatures, match to 2 to 1\n",
    "\n",
    "LZC=LZC.astype(int)\n",
    "LZM=LZM.astype(int)"
   ]
  },
  {
   "cell_type": "code",
   "execution_count": 34,
   "metadata": {},
   "outputs": [
    {
     "name": "stdout",
     "output_type": "stream",
     "text": [
      "-641.9354838709677\n",
      "-25.677419354838708\n"
     ]
    }
   ],
   "source": [
    "# 4. Find lag\n",
    "\n",
    "# Rough estimate\n",
    "\n",
    "print np.mean((LZC-LZM)*deltas)\n",
    "print np.mean(LZC-LZM)\n"
   ]
  },
  {
   "cell_type": "code",
   "execution_count": 43,
   "metadata": {},
   "outputs": [
    {
     "name": "stdout",
     "output_type": "stream",
     "text": [
      "Pearsons correlation: 0.544\n",
      "Pearsons correlation: 0.755\n"
     ]
    }
   ],
   "source": [
    "#  Iterate lag estimate for final lag\n",
    "\n",
    "\n",
    "#Without lag\n",
    "from scipy.stats import pearsonr\n",
    "# calculate Pearson's correlation\n",
    "corr, _ = pearsonr(curv, migr_dist)\n",
    "print('Pearsons correlation: %.3f' % corr)\n",
    "\n",
    "#With lag!\n",
    "from scipy.stats import pearsonr\n",
    "# calculate Pearson's correlation\n",
    "corr, _ = pearsonr(curv[:-27], migr_dist[27:])\n",
    "print('Pearsons correlation: %.3f' % corr)\n",
    "\n",
    "# curv_tsb_lagged = curv[:-27]\n",
    "# migr_tsb_lagged = migr_dist[27:]"
   ]
  },
  {
   "cell_type": "code",
   "execution_count": 47,
   "metadata": {},
   "outputs": [
    {
     "data": {
      "text/plain": [
       "Text(0,0.5,'migration distance (m), with phase lag')"
      ]
     },
     "execution_count": 47,
     "metadata": {},
     "output_type": "execute_result"
    }
   ],
   "source": [
    "# 5. Correlation plot\n",
    "\n",
    "plt.figure(figsize=(8,8))\n",
    "sns.kdeplot(curv[:-27], migr_dist[27:],\n",
    "           n_levels=20,shade=True,cmap='Blues',shade_lowest=False)\n",
    "\n",
    "## Run to crop data\n",
    "# plt.scatter(curv[3389:-27][::20],migr_dist[27+3389:][::20],c='y',s=10) \n",
    "# plt.scatter(curv[:3389-27][::20],migr_dist[27:3389][::20],c='k',s=10)\n",
    "\n",
    "plt.scatter(curv[:-27][::20],migr_dist[27:][::20],c='k',s=10)\n",
    "plt.xlabel('curvature (1/m)', fontsize=14)\n",
    "plt.ylabel('migration distance (m), with phase lag', fontsize=14)\n"
   ]
  },
  {
   "cell_type": "code",
   "execution_count": 108,
   "metadata": {},
   "outputs": [],
   "source": [
    "# 6. Map bends, cropped\n",
    "\n",
    "plt.figure(figsize=(60,60))\n",
    "           \n",
    "plt.plot(x4,y4, 'y')\n",
    "plt.plot(x2[3018:],y2[3018:],'g')\n",
    "plt.axis('equal')\n",
    "plt.scatter(x4[LZC], y4[LZC], c='r')\n",
    "plt.scatter(x4[LZM], y4[LZM], c='k')  \n",
    "\n",
    "for i, txt in enumerate(BEND):\n",
    "    plt.annotate(txt, (x4[LZC][i], y4[LZC][i]), color='r', size='small')\n",
    "for i, txt in enumerate(BEND):\n",
    "    plt.annotate(txt, (x4[LZM][i], y4[LZM][i]), color='k', size='small')\n",
    "\n",
    "plt.ylabel('distance from south to north (m)', fontsize =12); \n",
    "plt.xlabel('distance from east to west (m)',fontsize =12)\n",
    "plt.ticklabel_format(axis='x', style='sci', scilimits=(-2,2))\n",
    "plt.ticklabel_format(axis='y', style='sci', scilimits=(-2,2))\n"
   ]
  },
  {
   "cell_type": "code",
   "execution_count": 119,
   "metadata": {},
   "outputs": [],
   "source": [
    "# 7. Plot data by bends\n",
    "\n",
    "W = 174\n",
    "\n",
    "fig, ax1 = plt.subplots(figsize=(16,4))\n",
    "\n",
    "y1g = .45 # Top for curv\n",
    "y2g = 0.0 # Zero for curv\n",
    "y3g = -0.615625 # Zero for migr\n",
    "y4g = -1.1 # Bottom for curv\n",
    "\n",
    "for i in range(1,len(LZC)-1,2):\n",
    "    xcoords = [LZC_s[i],LZC_s[i+1],LZC_s[i+1],LZM_s[i+1],LZM_s[i+1],LZM_s[i],LZM_s[i],LZC_s[i]]\n",
    "    ycoords = [y1g,y1g,y2g,y3g,y4g,y4g,y3g,y2g]\n",
    "    ax1.fill(xcoords,ycoords,color=[0.85,0.85,0.85],zorder=0) \n",
    "        \n",
    "offset = 10\n",
    "deltas = 25.0\n",
    "\n",
    "ax1.fill_between(s, 0, curv*W) \n",
    "ax2 = ax1.twinx()\n",
    "ax2.fill_between(s, 0, migr_dist, facecolor='green')\n",
    "\n",
    "ax1.plot([0,max(s)],[0,0],'k--')\n",
    "ax2.plot([0,max(s)],[0,0],'k--')\n",
    "\n",
    "ax1.set_ylim(y4g,y1g)\n",
    "ax2.set_ylim(-500,1100)\n",
    "ax1.set_xlim(0,s[-1])\n",
    "\n",
    "ax1.set_ylabel('W/r (m)')\n",
    "ax2.set_ylabel('migration distance (m)')\n",
    "ax1.set_xlabel(\"distance along channel axis (m)\")\n",
    "\n",
    "plt.tight_layout()"
   ]
  },
  {
   "cell_type": "markdown",
   "metadata": {},
   "source": [
    "# Timestep C. Horizon 3 to Horizon 1"
   ]
  },
  {
   "cell_type": "code",
   "execution_count": 55,
   "metadata": {},
   "outputs": [],
   "source": [
    "# 1. Compute, Smooth Curvature\n",
    "\n",
    "from scipy.signal import savgol_filter#Plot Smoothed and Raw Curvature\n",
    "\n",
    "curv,s = compute_curvature(x3,y3) # Horizon 3\n",
    "curv_s = savgol_filter(curv,51,3) # mess with \"51\" or middle figure to play w smoothing (changed to 31)\n"
   ]
  },
  {
   "cell_type": "code",
   "execution_count": 56,
   "metadata": {},
   "outputs": [],
   "source": [
    "# 2. Compute, Smooth Migration Distance\n",
    "\n",
    "years = 1.0 #To get migration distance because we don't know the rate\n",
    "migr_dist, migr_sign, p, q = get_migr_dist(x3,y3,x1,y1,years)\n",
    "\n",
    "migr_dist = medfilt(savgol_filter(migr_dist,51,3),kernel_size=5) # smoothing\n",
    "curv,s = compute_curvature(x3,y3)\n",
    "\n",
    "curv = medfilt(savgol_filter(curv,51,3),kernel_size=5) # smoothing\n",
    "\n",
    "loc_zero_curv_s, loc_zero_curv = zerocross1d(s, curv, getIndices=True)\n",
    "loc_zero_migr_s, loc_zero_migr = zerocross1d(s, migr_dist, getIndices=True)"
   ]
  },
  {
   "cell_type": "code",
   "execution_count": 57,
   "metadata": {},
   "outputs": [],
   "source": [
    "#  Run to crop out incomplete contour data\n",
    "\n",
    "migr_dist = migr_dist[:5055]\n",
    "curv = curv[:5055]\n",
    "s = s[:5055] "
   ]
  },
  {
   "cell_type": "code",
   "execution_count": 59,
   "metadata": {},
   "outputs": [],
   "source": [
    "# 3. Import bends* from CSV \n",
    "\n",
    "# * To edit, see \"bend_picker\" in /Desktop/Thesis Data Processing and change file description below to \"..._NEW\"\n",
    "# For smoothing factor on curv at '31' use v2, for '51' use  v3\n",
    "\n",
    "df = pd.read_csv('/Users/indre/Desktop/Thesis Data Processing/Joshua_hz3_to_hz1_inflection_and_zero_migration_indices.csv', usecols=[0,1,2,3,4])\n",
    "df.columns = ['bend','index_inflection_point','index_zero_migration','s_coordinate_index_ip','s_coordinate_index_zm']\n",
    "                 \n",
    "BEND = np.array(df['bend'])\n",
    "LZC = np.array(df['index_inflection_point'])\n",
    "LZM = np.array(df['index_zero_migration'])\n",
    "LZC_s = np.array(df['s_coordinate_index_ip'])\n",
    "LZM_s = np.array(df['s_coordinate_index_zm'])\n",
    "\n",
    "BEND=BEND+13  # add [amount] to bend 0 to account for upstream curvatures, match to 2 to 1\n",
    "LZC=LZC.astype(int)\n",
    "LZM=LZM.astype(int)\n"
   ]
  },
  {
   "cell_type": "code",
   "execution_count": 60,
   "metadata": {},
   "outputs": [
    {
     "name": "stdout",
     "output_type": "stream",
     "text": [
      "-725.0\n",
      "-29.0\n"
     ]
    }
   ],
   "source": [
    "# 4. Find lag\n",
    "\n",
    "# Rough estimate\n",
    "\n",
    "print np.median((LZC-LZM)*deltas)\n",
    "print np.median(LZC-LZM)\n"
   ]
  },
  {
   "cell_type": "code",
   "execution_count": 62,
   "metadata": {},
   "outputs": [
    {
     "name": "stdout",
     "output_type": "stream",
     "text": [
      "Pearsons correlation: 0.452\n",
      "Pearsons correlation: 0.752\n"
     ]
    }
   ],
   "source": [
    "# Iterate to find final lag\n",
    "\n",
    "#Without lag\n",
    "from scipy.stats import pearsonr\n",
    "# calculate Pearson's correlation\n",
    "corr, _ = pearsonr(curv, migr_dist)\n",
    "print('Pearsons correlation: %.3f' % corr)\n",
    "\n",
    "#With lag!\n",
    "from scipy.stats import pearsonr\n",
    "# calculate Pearson's correlation\n",
    "corr, _ = pearsonr(curv[:-27], migr_dist[27:])\n",
    "print('Pearsons correlation: %.3f' % corr)\n",
    "\n",
    "print 27*deltas # Convert lag from index points to meters"
   ]
  },
  {
   "cell_type": "code",
   "execution_count": 67,
   "metadata": {},
   "outputs": [
    {
     "data": {
      "text/plain": [
       "Text(0,0.5,'migration distance (m), with phase lag')"
      ]
     },
     "execution_count": 67,
     "metadata": {},
     "output_type": "execute_result"
    }
   ],
   "source": [
    "# 5. Correlation plot\n",
    "\n",
    "plt.figure(figsize=(8,8))\n",
    "sns.kdeplot(curv[:-27], migr_dist[27:],\n",
    "           n_levels=20,shade=True,cmap='Blues',shade_lowest=False)\n",
    "\n",
    "plt.scatter(curv[:-27][::20],migr_dist[27:][::20],c='k',s=10)\n",
    "\n",
    "## Run to color incomplete data\n",
    "# plt.scatter(curv[:5055-28][::20],migr_dist[28:5055][::20],c='k',s=10)\n",
    "# plt.scatter(curv[5055:-28][::20],migr_dist[28+5055:][::20],c='y',s=10)\n",
    "\n",
    "plt.xlabel('curvature (1/m)', fontsize=14)\n",
    "plt.ylabel('migration distance (m), with phase lag', fontsize=14)\n"
   ]
  },
  {
   "cell_type": "code",
   "execution_count": 115,
   "metadata": {},
   "outputs": [],
   "source": [
    "# 6. Map bends, cropped\n",
    "\n",
    "plt.figure(figsize=(60,60))\n",
    "           \n",
    "plt.plot(x3,y3, 'c')\n",
    "plt.plot(x1[1437:],y1[1437:],'b')\n",
    "plt.axis('equal')\n",
    "plt.scatter(x3[LZC], y3[LZC], c='r')\n",
    "plt.scatter(x3[LZM], y3[LZM], c='k')  \n",
    "\n",
    "for i, txt in enumerate(BEND):\n",
    "    plt.annotate(txt, (x3[LZC][i], y3[LZC][i]), color='r', size='small')\n",
    "for i, txt in enumerate(BEND):\n",
    "    plt.annotate(txt, (x3[LZM][i], y3[LZM][i]), color='k', size='small')\n",
    "plt.ylabel('distance from south to north (m)', fontsize =12); \n",
    "plt.xlabel('distance from east to west (m)',fontsize =12)\n",
    "plt.ticklabel_format(axis='x', style='sci', scilimits=(-2,2))\n",
    "plt.ticklabel_format(axis='y', style='sci', scilimits=(-2,2))\n"
   ]
  },
  {
   "cell_type": "code",
   "execution_count": 115,
   "metadata": {},
   "outputs": [],
   "source": [
    "# 7. Let's plot data by bends\n",
    "\n",
    "W = 174\n",
    "\n",
    "fig, ax1 = plt.subplots(figsize=(16,4))\n",
    "\n",
    "y1g = .45 # Top for curv\n",
    "y2g = 0.0 # Zero for curv\n",
    "y3g = -0.615625 # Zero for migr\n",
    "y4g = -1.1 # Bottom for curv\n",
    "\n",
    "for i in range(0,len(LZC)-1,2):\n",
    "    xcoords = [LZC_s[i],LZC_s[i+1],LZC_s[i+1],LZM_s[i+1],LZM_s[i+1],LZM_s[i],LZM_s[i],LZC_s[i]]\n",
    "    ycoords = [y1g,y1g,y2g,y3g,y4g,y4g,y3g,y2g]\n",
    "    ax1.fill(xcoords,ycoords,color=[0.85,0.85,0.85],zorder=0) \n",
    "        \n",
    "offset = 10\n",
    "deltas = 25.0\n",
    "\n",
    "ax1.fill_between(s, 0, curv*W)\n",
    "ax2 = ax1.twinx()\n",
    "ax2.fill_between(s, 0, migr_dist, facecolor='green')\n",
    "\n",
    "ax1.plot([0,max(s)],[0,0],'k--')\n",
    "ax2.plot([0,max(s)],[0,0],'k--')\n",
    "\n",
    "ax1.set_ylim(y4g,y1g)\n",
    "ax2.set_ylim(-450,990)\n",
    "ax1.set_xlim(0,s[-1])\n",
    "   \n",
    "ax1.set_ylabel('W/r (m)')\n",
    "ax2.set_ylabel('migration distance (m)')\n",
    "ax1.set_xlabel(\"distance along channel axis (m)\")\n",
    "\n",
    "plt.tight_layout()\n",
    "    "
   ]
  }
 ],
 "metadata": {
  "kernelspec": {
   "display_name": "Python 2",
   "language": "python",
   "name": "python2"
  },
  "language_info": {
   "codemirror_mode": {
    "name": "ipython",
    "version": 2
   },
   "file_extension": ".py",
   "mimetype": "text/x-python",
   "name": "python",
   "nbconvert_exporter": "python",
   "pygments_lexer": "ipython2",
   "version": "2.7.17"
  }
 },
 "nbformat": 4,
 "nbformat_minor": 2
}
