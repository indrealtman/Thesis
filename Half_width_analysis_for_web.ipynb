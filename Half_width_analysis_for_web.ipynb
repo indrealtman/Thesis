{
 "cells": [
  {
   "cell_type": "code",
   "execution_count": 2,
   "metadata": {},
   "outputs": [],
   "source": [
    "# Import packages\n",
    "\n",
    "import numpy as np\n",
    "import matplotlib.pyplot as plt\n",
    "from scipy.signal import savgol_filter\n",
    "import pandas as pd\n",
    "from scipy.signal import medfilt\n",
    "import functools\n",
    "from scipy.optimize import minimize, bisect\n",
    "import os\n",
    "import seaborn as sns"
   ]
  },
  {
   "cell_type": "code",
   "execution_count": 3,
   "metadata": {},
   "outputs": [
    {
     "data": {
      "text/plain": [
       "u'/Users/indre/Desktop/Thesis Data Processing'"
      ]
     },
     "execution_count": 3,
     "metadata": {},
     "output_type": "execute_result"
    }
   ],
   "source": [
    "pwd"
   ]
  },
  {
   "cell_type": "code",
   "execution_count": 4,
   "metadata": {},
   "outputs": [
    {
     "name": "stdout",
     "output_type": "stream",
     "text": [
      "/Users/indre/Python/dp_python-master\n"
     ]
    }
   ],
   "source": [
    "cd '/Users/indre/Python/dp_python-master'"
   ]
  },
  {
   "cell_type": "code",
   "execution_count": 5,
   "metadata": {},
   "outputs": [],
   "source": [
    "from dpcore import dp"
   ]
  },
  {
   "cell_type": "code",
   "execution_count": 6,
   "metadata": {},
   "outputs": [],
   "source": [
    "%matplotlib qt"
   ]
  },
  {
   "cell_type": "code",
   "execution_count": 7,
   "metadata": {},
   "outputs": [
    {
     "name": "stdout",
     "output_type": "stream",
     "text": [
      "Requirement already satisfied: PyShp in /Users/indre/anaconda3/lib/python3.7/site-packages (2.1.0)\r\n"
     ]
    }
   ],
   "source": [
    "!pip install PyShp"
   ]
  },
  {
   "cell_type": "code",
   "execution_count": 8,
   "metadata": {},
   "outputs": [],
   "source": [
    "# Define functions\n",
    "# From Sylvester et al. (2019)\n",
    "\n",
    "def compute_derivatives(x,y):\n",
    "    \"\"\"function for computing first derivatives of a curve (centerline)\n",
    "    x,y are cartesian coodinates of the curve\n",
    "    outputs:\n",
    "    dx - first derivative of x coordinate\n",
    "    dy - first derivative of y coordinate\n",
    "    ds - distances between consecutive points along the curve\n",
    "    s - cumulative distance along the curve\"\"\"\n",
    "    dx = np.gradient(x) # first derivatives\n",
    "    dy = np.gradient(y)   \n",
    "    ds = np.sqrt(dx**2+dy**2)\n",
    "    s = np.cumsum(ds)\n",
    "    return dx, dy, ds, s\n",
    "    dx,dy,ds,s\n",
    "\n",
    "def compute_curvature(x,y):\n",
    "    \"\"\"function for computing first derivatives and curvature of a curve (centerline)\n",
    "    x,y are cartesian coodinates of the curve\n",
    "    outputs:\n",
    "    dx - first derivative of x coordinate\n",
    "    dy - first derivative of y coordinate\n",
    "    ds - distances between consecutive points along the curve\n",
    "    s - cumulative distance along the curve\n",
    "    curvature - curvature of the curve (in 1/units of x and y)\"\"\"\n",
    "    dx = np.gradient(x) # first derivatives\n",
    "    dy = np.gradient(y)      \n",
    "    ds = np.sqrt(dx**2+dy**2)\n",
    "    ddx = np.gradient(dx) # second derivatives \n",
    "    ddy = np.gradient(dy) \n",
    "    curvature = (dx*ddy - dy*ddx) / ((dx**2 + dy**2)**1.5)\n",
    "    s = np.cumsum(ds)\n",
    "    return dx, dy, ds, s, curvature\n",
    "    \n",
    "def resample_curve(x,y,deltas,sf):\n",
    "    dx,dy,ds,s = compute_derivatives(x,y)\n",
    "    tck, u = scipy.interpolate.splprep([x,y],s=sf) \n",
    "    unew = np.linspace(0,1,1+s[-1]/deltas) # vector for resampling\n",
    "    out = scipy.interpolate.splev(unew,tck) # resampling\n",
    "    return out[0], out[1]\n",
    "\n",
    "def correlate_clines(x1,x2,y1,y2):\n",
    "    # use dynamic time warping to correlate centerlines\n",
    "    c = len(x1)\n",
    "    r = len(x2)\n",
    "    sm = np.zeros((r,c))\n",
    "    for i in range(0,r):\n",
    "        sm[i,:] = ((x1-x2[i])**2 + (y1-y2[i])**2)**0.5\n",
    "    p,q,C,phi = dp(sm,penalty=0.0,gutter=0.0)\n",
    "    return p,q,sm"
   ]
  },
  {
   "cell_type": "code",
   "execution_count": 9,
   "metadata": {},
   "outputs": [
    {
     "data": {
      "text/plain": [
       "u'/Users/indre/Python/dp_python-master'"
      ]
     },
     "execution_count": 9,
     "metadata": {},
     "output_type": "execute_result"
    }
   ],
   "source": [
    "pwd"
   ]
  },
  {
   "cell_type": "code",
   "execution_count": 10,
   "metadata": {},
   "outputs": [
    {
     "name": "stdout",
     "output_type": "stream",
     "text": [
      "/Users/indre/Desktop/Thesis Data Processing\n"
     ]
    }
   ],
   "source": [
    "cd '/Users/indre/Desktop/Thesis Data Processing'"
   ]
  },
  {
   "cell_type": "code",
   "execution_count": 11,
   "metadata": {},
   "outputs": [],
   "source": [
    "#  Import CVS Files \n",
    "#  In meters. Change columns to 2, 3 for feet.\n",
    "\n",
    "df = pd.read_csv('/Users/indre/Desktop/Thesis Data Processing/upper_bank_v3.csv',usecols=[2,3])\n",
    "df.columns = ['x', 'y']\n",
    "rbx = np.array(df['x'])\n",
    "rby = np.array(df['y'])\n",
    "\n",
    "df = pd.read_csv('/Users/indre/Desktop/Thesis Data Processing/lower_bank_v3.csv',usecols=[2,3])\n",
    "df.columns = ['x', 'y']\n",
    "lbx = np.array(df['x'])\n",
    "lby = np.array(df['y'])\n",
    "\n",
    "df = pd.read_csv('/Users/indre/Desktop/Thesis Data Processing/centerline_v3.csv',usecols=[2,3])\n",
    "df.columns = ['x', 'y']\n",
    "x = np.array(df['x'])\n",
    "y = np.array(df['y'])\n",
    "\n",
    "df = pd.read_csv('/Users/indre/Desktop/Thesis Data Processing/thalweg_lb_v2.csv', usecols=[2,3]) \n",
    "df.columns = ['x', 'y']\n",
    "df[:5]\n",
    "\n",
    "tlbx = np.array(df['x'])\n",
    "tlby = np.array(df['y'])\n",
    "\n",
    "df = pd.read_csv('/Users/indre/Desktop/Thesis Data Processing/thalweg_rb_v2.csv',usecols=[2,3])\n",
    "df.columns = ['x', 'y']\n",
    "\n",
    "trbx = np.array(df['x'])\n",
    "trby  = np.array(df['y'])\n",
    "\n",
    "df = pd.read_csv('/Users/indre/Desktop/Thesis Data Processing/broad_thalweg_lower_v8.csv', usecols=[2,3])\n",
    "df.columns = ['x', 'y']\n",
    "\n",
    "btlbx = np.array(df['x'])\n",
    "btlby = np.array(df['y'])\n",
    "\n",
    "df = pd.read_csv('/Users/indre/Desktop/Thesis Data Processing/broad_thalweg_rb.csv',usecols=[2,3])\n",
    "df.columns = ['x', 'y']\n",
    "\n",
    "btrbx = np.array(df['x'])\n",
    "btrby = np.array(df['y'])"
   ]
  },
  {
   "cell_type": "code",
   "execution_count": 12,
   "metadata": {},
   "outputs": [
    {
     "name": "stderr",
     "output_type": "stream",
     "text": [
      "/Users/indre/anaconda3/envs/DTW/lib/python2.7/site-packages/ipykernel_launcher.py:37: DeprecationWarning: object of type <type 'numpy.float64'> cannot be safely interpreted as an integer.\n"
     ]
    }
   ],
   "source": [
    "# Resample centerlines\n",
    "\n",
    "import scipy.interpolate\n",
    "\n",
    "deltas = 25  # sampling distance, previously and in half width analysis is 50m\n",
    "sf = 20000 # smoothing factor changed from 200000 and then half that and then 20000\n",
    "\n",
    "btlbx, btlby = resample_curve(btlbx,btlby,deltas,sf)\n",
    "btrbx, btrby = resample_curve(btrbx,btrby,deltas,sf)\n",
    "\n",
    "x, y = resample_curve(x,y,deltas,sf)\n",
    "lbx, lby = resample_curve(lbx,lby,deltas,sf)\n",
    "rbx, rby = resample_curve(rbx,rby,deltas,sf)"
   ]
  },
  {
   "cell_type": "code",
   "execution_count": 12,
   "metadata": {},
   "outputs": [],
   "source": [
    "# Plot widths\n",
    "\n",
    "plt.figure(figsize=(8,6))\n",
    "\n",
    "#  centerline\n",
    "plt.plot(x/1000,y/1000,'b')\n",
    "\n",
    "# levee crest\n",
    "plt.plot(lbx/1000,lby/1000,'g')\n",
    "plt.plot(rbx/1000,rby/1000,'g')\n",
    "\n",
    "# thalweg\n",
    "plt.plot(btlbx/1000,btlby/1000,'y')\n",
    "plt.plot(btrbx/1000,btrby/1000,'y')\n",
    "plt.xlim(575.500,579.000)\n",
    "plt.ylim(3041.000,3045.000)\n",
    "\n",
    "plt.ylabel('distance from south to north (km)', fontsize =12); \n",
    "plt.xlabel('distance from east to west (km)',fontsize =12)\n",
    "plt.ticklabel_format(axis='x', style='sci', scilimits=(-2,2))\n",
    "plt.ticklabel_format(axis='y', style='sci', scilimits=(-2,3))"
   ]
  },
  {
   "cell_type": "code",
   "execution_count": 16,
   "metadata": {},
   "outputs": [],
   "source": [
    "# Compute curvature\n",
    "\n",
    "dx, dy, ds, s, curv = compute_curvature(x,y)\n",
    "from scipy.signal import savgol_filter\n",
    "curv = savgol_filter(curv,51,3)"
   ]
  },
  {
   "cell_type": "code",
   "execution_count": 15,
   "metadata": {},
   "outputs": [],
   "source": [
    "curv_s = savgol_filter(curv,51,3)"
   ]
  },
  {
   "cell_type": "code",
   "execution_count": null,
   "metadata": {},
   "outputs": [],
   "source": [
    "# Now, resample and smooth left and right bank width, and thalweg width coordinates\n",
    "# Compute widths by correlating to centerline"
   ]
  },
  {
   "cell_type": "code",
   "execution_count": 16,
   "metadata": {},
   "outputs": [
    {
     "name": "stderr",
     "output_type": "stream",
     "text": [
      "/Users/indre/anaconda3/envs/DTW/lib/python2.7/site-packages/ipykernel_launcher.py:37: DeprecationWarning: object of type <type 'numpy.float64'> cannot be safely interpreted as an integer.\n"
     ]
    }
   ],
   "source": [
    "rbx, rby = resample_curve(rbx,rby,deltas,sf)"
   ]
  },
  {
   "cell_type": "code",
   "execution_count": 17,
   "metadata": {},
   "outputs": [
    {
     "name": "stderr",
     "output_type": "stream",
     "text": [
      "/Users/indre/anaconda3/envs/DTW/lib/python2.7/site-packages/ipykernel_launcher.py:37: DeprecationWarning: object of type <type 'numpy.float64'> cannot be safely interpreted as an integer.\n"
     ]
    }
   ],
   "source": [
    "lbx, lby = resample_curve(lbx,lby,deltas,sf)"
   ]
  },
  {
   "cell_type": "code",
   "execution_count": 19,
   "metadata": {},
   "outputs": [
    {
     "name": "stderr",
     "output_type": "stream",
     "text": [
      "/Users/indre/anaconda3/envs/DTW/lib/python2.7/site-packages/ipykernel_launcher.py:37: DeprecationWarning: object of type <type 'numpy.float64'> cannot be safely interpreted as an integer.\n"
     ]
    }
   ],
   "source": [
    "btlbx, btlby = resample_curve(btlbx,btlby,deltas,sf)\n",
    "btrbx, btrby = resample_curve(btrbx,btrby,deltas,sf)"
   ]
  },
  {
   "cell_type": "code",
   "execution_count": 20,
   "metadata": {},
   "outputs": [],
   "source": [
    "pr,qr,smr = correlate_clines(x,rbx,y,rby) "
   ]
  },
  {
   "cell_type": "code",
   "execution_count": 21,
   "metadata": {},
   "outputs": [],
   "source": [
    "pl,ql,sml = correlate_clines(x,lbx,y,lby) "
   ]
  },
  {
   "cell_type": "code",
   "execution_count": 22,
   "metadata": {},
   "outputs": [],
   "source": [
    "btpr,btqr,btsmr = correlate_clines(x,btrbx,y,btrby) "
   ]
  },
  {
   "cell_type": "code",
   "execution_count": 23,
   "metadata": {},
   "outputs": [],
   "source": [
    "btpl,btql,btsml = correlate_clines(x,btlbx,y,btlby) "
   ]
  },
  {
   "cell_type": "code",
   "execution_count": 24,
   "metadata": {},
   "outputs": [],
   "source": [
    "qnr = np.delete(np.array(qr),np.where(np.diff(qr)==0)[0]+1)\n",
    "pnr = np.delete(np.array(pr),np.where(np.diff(qr)==0)[0]+1)"
   ]
  },
  {
   "cell_type": "code",
   "execution_count": 25,
   "metadata": {},
   "outputs": [],
   "source": [
    "qnl = np.delete(np.array(ql),np.where(np.diff(ql)==0)[0]+1)\n",
    "pnl = np.delete(np.array(pl),np.where(np.diff(ql)==0)[0]+1)"
   ]
  },
  {
   "cell_type": "code",
   "execution_count": 26,
   "metadata": {},
   "outputs": [],
   "source": [
    "btqnr = np.delete(np.array(btqr),np.where(np.diff(btqr)==0)[0]+1)\n",
    "btpnr = np.delete(np.array(btpr),np.where(np.diff(btqr)==0)[0]+1)\n",
    "\n",
    "btqnl = np.delete(np.array(btql),np.where(np.diff(btql)==0)[0]+1)\n",
    "btpnl = np.delete(np.array(btpl),np.where(np.diff(btql)==0)[0]+1)"
   ]
  },
  {
   "cell_type": "code",
   "execution_count": 27,
   "metadata": {},
   "outputs": [],
   "source": [
    "rbw = smr[pnr,qnr]\n",
    "lbw = sml[pnl,qnl]  "
   ]
  },
  {
   "cell_type": "code",
   "execution_count": 28,
   "metadata": {},
   "outputs": [],
   "source": [
    "btrbw = btsmr[btpnr,btqnr]\n",
    "btlbw = btsml[btpnl,btqnl]"
   ]
  },
  {
   "cell_type": "code",
   "execution_count": 37,
   "metadata": {},
   "outputs": [],
   "source": [
    "# Plot left and right bank width, first panel\n",
    "\n",
    "plt.figure(figsize=(15,6))\n",
    "\n",
    "#RBW Axis\n",
    "plt.plot(s/1000,rbw)\n",
    "plt.ylabel('width (m)', fontsize=14)\n",
    "plt.xlabel('distance along channel axis (km)', fontsize=14) \n",
    "\n",
    "#LBW Axis\n",
    "plt.plot(s/1000,lbw)\n",
    "\n",
    "#Average half width Axis\n",
    "plt.plot(s/1000,0.5*lbw+0.5*rbw)\n",
    "\n",
    "#Legend\n",
    "plt.legend(['right bank width','left bank width','mean half width']);\n",
    "plt.title('distance between banks and centerline', fontsize =16);"
   ]
  },
  {
   "cell_type": "code",
   "execution_count": 71,
   "metadata": {},
   "outputs": [],
   "source": [
    "# Plot left and right bank width, second panel\n",
    "\n",
    "plt.figure(figsize=(15,6))\n",
    "\n",
    "#RBW Axis\n",
    "plt.plot(s/1000,rbw)\n",
    "plt.ylabel('width (m)', fontsize=14)\n",
    "plt.xlabel('distance along channel axis (km)', fontsize=14) \n",
    "plt.xlim(0,226.39785743974724) \n",
    "\n",
    "#LBW Axis\n",
    "plt.plot(s/1000,lbw) \n",
    "\n",
    "#Average half width Axis\n",
    "plt.plot(s/1000,0.5*lbw+0.5*rbw)\n",
    "\n",
    "#legend\n",
    "plt.legend(['right bank width','left bank width', 'mean half width']);"
   ]
  },
  {
   "cell_type": "code",
   "execution_count": 376,
   "metadata": {},
   "outputs": [],
   "source": [
    "# Plot left and right bank width, third panel\n",
    "\n",
    "plt.figure(figsize=(15,6))\n",
    "\n",
    "#RBW Axis\n",
    "plt.plot(s/1000,rbw)\n",
    "plt.ylabel('width (m)', fontsize=14)\n",
    "plt.xlabel('distance along channel axis (km)', fontsize=14) \n",
    "plt.xlim(226.39785743974724*2,max(s/1000)) \n",
    "\n",
    "#LBW Axis\n",
    "plt.plot(s/1000,lbw) \n",
    "\n",
    "#Average half width Axis\n",
    "plt.plot(s/1000,0.5*lbw+0.5*rbw)\n",
    "\n",
    "#legend\n",
    "plt.legend(['right bank width','left bank width', 'mean half width']);"
   ]
  },
  {
   "cell_type": "code",
   "execution_count": 72,
   "metadata": {},
   "outputs": [],
   "source": [
    "# Compare HW and Curvature\n",
    "\n",
    "fig = plt.figure(figsize=(14,4))\n",
    "ax1 = fig.add_subplot(111)\n",
    "\n",
    "#Curvature Axis\n",
    "ax1.plot(s/1000,curv_s,'r'); \n",
    "\n",
    "#Label curv_s=0\n",
    "ax1.plot([0, max(s/1000)],[0,0],'k--')\n",
    "\n",
    "ax1.set_ylabel('curvature (1/m)', fontsize=14)\n",
    "ax1.set_xlabel('distance along channel axis (km)', fontsize=14) #CHECK UNITS\n",
    "\n",
    "# Width Axis\n",
    "ax2 = ax1.twinx()\n",
    "ax2.plot(s/1000,rbw)\n",
    "ax2.set_ylabel('width (m)', fontsize=14)\n",
    "\n",
    "#legend\n",
    "ax1.legend(['curvature'],loc='upper left',);\n",
    "ax2.legend(['right bank width'],loc='upper right');"
   ]
  },
  {
   "cell_type": "code",
   "execution_count": 121,
   "metadata": {},
   "outputs": [
    {
     "data": {
      "text/plain": [
       "Text(0,0.5,'right bank width, with phase lag (m)')"
      ]
     },
     "execution_count": 121,
     "metadata": {},
     "output_type": "execute_result"
    }
   ],
   "source": [
    "# Correlation plot\n",
    "# Only 5% of data points are plotted as black dots. \n",
    "\n",
    "plt.figure(figsize=(8,8))\n",
    "sns.kdeplot(curv[:23], rbw[-23:],\n",
    "           n_levels=20,shade=True,cmap='Blues', shade_lowest=False)\n",
    "plt.scatter(curv[:23][::20],rbw[-23:][::20],c='k',s=10)\n",
    "plt.xlabel('curvature (1/m)', fontsize=14)\n",
    "plt.ylabel('right bank width, with phase lag (m)', fontsize=14)"
   ]
  },
  {
   "cell_type": "code",
   "execution_count": 32,
   "metadata": {},
   "outputs": [],
   "source": [
    "# 5. Import bends* from CSV \n",
    "\n",
    "# * To edit, see \"bend_picker\" in /Desktop/Thesis Data Processing and change file description below to \"..._NEW\"\n",
    "\n",
    "df = pd.read_csv('/Users/indre/Desktop/Thesis Data Processing/Joshua_bathy_lzc_lzm.csv', usecols=[0,1,2,3,4])\n",
    "df.columns = ['bend','index_inflection_point','index_zero_migration','s_coordinate_index_ip','s_coordinate_index_zm']\n",
    "                 \n",
    "BEND = np.array(df['bend'])\n",
    "LZC = np.array(df['index_inflection_point'])\n",
    "LZM = np.array(df['index_zero_migration'])\n",
    "LZC_s = np.array(df['s_coordinate_index_ip'])\n",
    "LZM_s = np.array(df['s_coordinate_index_zm'])\n",
    "\n",
    "LZC=LZC.astype(int)\n",
    "LZM=LZM.astype(int)\n"
   ]
  },
  {
   "cell_type": "code",
   "execution_count": 33,
   "metadata": {},
   "outputs": [
    {
     "data": {
      "text/plain": [
       "300.0"
      ]
     },
     "execution_count": 33,
     "metadata": {},
     "output_type": "execute_result"
    }
   ],
   "source": [
    "# Rough estimate of lag\n",
    "\n",
    "print np.median(LZM-LZC)\n",
    "print np.median(LZM-LZC)*deltas"
   ]
  },
  {
   "cell_type": "code",
   "execution_count": 129,
   "metadata": {},
   "outputs": [
    {
     "data": {
      "text/plain": [
       "12"
      ]
     },
     "execution_count": 129,
     "metadata": {},
     "output_type": "execute_result"
    }
   ],
   "source": [
    "# Iterate estimate for maximum correlation to find lag\n",
    "\n",
    "# Without lag\n",
    "from scipy.stats import pearsonr\n",
    "corr, _ = pearsonr(curv, rbw)\n",
    "print('Pearsons correlation: %.3f' % corr)\n",
    "\n",
    "# With lag!\n",
    "from scipy.stats import pearsonr\n",
    "# calculate Pearson's correlation\n",
    "corr, _ = pearsonr(curv[:-10], rbw[10:])\n",
    "print('Pearsons correlation: %.3f' % corr)\n"
   ]
  },
  {
   "cell_type": "code",
   "execution_count": 136,
   "metadata": {},
   "outputs": [],
   "source": [
    "# 6. Map bends, cropped \n",
    "# colors: hz1 - 'b', hz 2 - 'g' , hz3 - 'c', hz 4 - 'y'\n",
    "\n",
    "plt.figure(figsize=(60,60))\n",
    "           \n",
    "plt.plot(x, y)\n",
    "plt.axis('equal')\n",
    "plt.scatter(x[LZC], y[LZC], c='r')\n",
    "plt.scatter(x[LZM], y[LZM], c='b')  \n",
    "\n",
    "for i, txt in enumerate(BEND):\n",
    "    plt.annotate(txt, (x[LZC][i], y[LZC][i]), color='r',  size='small')\n",
    "for i, txt in enumerate(BEND):\n",
    "    plt.annotate(txt, (x[LZM][i], y[LZM][i]), color='b', size='small')\n",
    "    \n",
    "LZM=LZM.astype(int)\n",
    "LZC=LZC.astype(int)\n",
    "plt.ylabel('distance from south to north (m)', fontsize =12); \n",
    "plt.xlabel('distance from east to west (m)',fontsize =12)\n",
    "plt.ticklabel_format(axis='x', style='sci', scilimits=(-2,2))\n",
    "plt.ticklabel_format(axis='y', style='sci', scilimits=(-2,2))"
   ]
  },
  {
   "cell_type": "code",
   "execution_count": 157,
   "metadata": {},
   "outputs": [],
   "source": [
    "# Make zero crossings for half width\n",
    "\n",
    "rbw = rbw - np.median(rbw) \n"
   ]
  },
  {
   "cell_type": "code",
   "execution_count": 158,
   "metadata": {},
   "outputs": [],
   "source": [
    "# 7. Plot data by bends\n",
    "\n",
    "W = 174\n",
    "\n",
    "fig, ax1 = plt.subplots(figsize=(16,4))\n",
    "\n",
    "y1g = 0.5 # top for curv\n",
    "y2g = 0 # zero for curv in migr\n",
    "y3g = -0.8333 # zero for migr in curv\n",
    "y4g = -1.3 # bottom for curv\n",
    "\n",
    "for i in range(1,len(LZC)-1,2):\n",
    "    xcoords = [LZC_s[i],LZC_s[i+1],LZC_s[i+1],LZM_s[i+1],LZM_s[i+1],LZM_s[i],LZM_s[i],LZC_s[i]]\n",
    "    ycoords = [y1g,y1g,y2g,y3g,y4g,y4g,y3g,y2g]\n",
    "    ax1.fill(xcoords,ycoords,color=[0.85,0.85,0.85],zorder=0) \n",
    "        \n",
    "offset = 10\n",
    "deltas = 25.0\n",
    "\n",
    "ax1.fill_between(s, 0, curv*W) \n",
    "ax2.fill_between(s, 0, rbw, facecolor='green')\n",
    "\n",
    "ax1.plot([0,max(s)],[0,0],'k--')\n",
    "ax2.plot([0,max(s)],[0,0],'k--')\n",
    "\n",
    "ax1.set_ylim(y4g,y1g)\n",
    "ax2.set_ylim(-350,1000)\n",
    "ax1.set_xlim(0,s[-1])\n",
    "   \n",
    "ax1.set_ylabel('W/r (m)')\n",
    "ax2.set_ylabel('migration distance (m)')\n",
    "ax1.set_xlabel(\"distance along channel axis (m)\")\n",
    "\n",
    "plt.tight_layout()"
   ]
  },
  {
   "cell_type": "code",
   "execution_count": 142,
   "metadata": {},
   "outputs": [
    {
     "data": {
      "text/plain": [
       "Text(0,0.5,'right bank width, with phase lag (m)')"
      ]
     },
     "execution_count": 142,
     "metadata": {},
     "output_type": "execute_result"
    }
   ],
   "source": [
    "# 8. Correlation plots\n",
    "\n",
    "plt.figure(figsize=(8,8))\n",
    "sns.kdeplot(curv[:-10], rbw[10:],\n",
    "           n_levels=20,shade=True,cmap='Blues', shade_lowest=False)\n",
    "plt.scatter(curv[:-10][::20],rbw[10:][::20],c='k',s=10)\n",
    "plt.xlabel('curvature (1/m)', fontsize=14)\n",
    "plt.ylabel('right bank width, with phase lag (m)', fontsize=14)"
   ]
  },
  {
   "cell_type": "markdown",
   "metadata": {},
   "source": []
  }
 ],
 "metadata": {
  "kernelspec": {
   "display_name": "Python 2",
   "language": "python",
   "name": "python2"
  },
  "language_info": {
   "codemirror_mode": {
    "name": "ipython",
    "version": 2
   },
   "file_extension": ".py",
   "mimetype": "text/x-python",
   "name": "python",
   "nbconvert_exporter": "python",
   "pygments_lexer": "ipython2",
   "version": "2.7.17"
  }
 },
 "nbformat": 4,
 "nbformat_minor": 2
}
